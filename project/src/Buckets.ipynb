{
 "cells": [
  {
   "cell_type": "code",
   "execution_count": 1,
   "metadata": {},
   "outputs": [],
   "source": [
    "import pandas as pd\n",
    "import tensorflow as tf\n",
    "from pyspark.sql import SparkSession\n",
    "from pyspark.ml.feature import Bucketizer"
   ]
  },
  {
   "cell_type": "code",
   "execution_count": 2,
   "metadata": {},
   "outputs": [],
   "source": [
    "spark = SparkSession \\\n",
    "    .builder \\\n",
    "    .appName(\"MSBD5003 Group09 Team Project\") \\\n",
    "    .getOrCreate()"
   ]
  },
  {
   "cell_type": "code",
   "execution_count": 3,
   "metadata": {},
   "outputs": [],
   "source": [
    "df = spark.read.option('quote', '\"').option('escape', '\"').option(\"delimiter\", \",\").option(\"multiLine\", True).csv('../data/Reviews.csv', header=True, inferSchema=True)"
   ]
  },
  {
   "cell_type": "code",
   "execution_count": 4,
   "metadata": {},
   "outputs": [
    {
     "name": "stdout",
     "output_type": "stream",
     "text": [
      "root\n",
      " |-- _c0: integer (nullable = true)\n",
      " |-- Clothing ID: integer (nullable = true)\n",
      " |-- Age: integer (nullable = true)\n",
      " |-- Title: string (nullable = true)\n",
      " |-- Review Text: string (nullable = true)\n",
      " |-- Rating: integer (nullable = true)\n",
      " |-- Recommended IND: integer (nullable = true)\n",
      " |-- Positive Feedback Count: integer (nullable = true)\n",
      " |-- Division Name: string (nullable = true)\n",
      " |-- Department Name: string (nullable = true)\n",
      " |-- Class Name: string (nullable = true)\n",
      "\n"
     ]
    }
   ],
   "source": [
    "df.printSchema()"
   ]
  },
  {
   "cell_type": "code",
   "execution_count": 5,
   "metadata": {},
   "outputs": [],
   "source": [
    "from pyspark.ml.feature import Bucketizer\n",
    "\n",
    "df1= df.limit(4999)\n",
    "bucketizer = Bucketizer(splits=[ 0, 25, 30, 35, 40, 45, 50, 55, 60, 65, 70, 75, 100, float('Inf') ],inputCol=\"Age\", \\\n",
    "                        outputCol=\"buckets\")\n",
    "df_buck = bucketizer.setHandleInvalid(\"keep\").transform(df1)"
   ]
  },
  {
   "cell_type": "code",
   "execution_count": 7,
   "metadata": {},
   "outputs": [
    {
     "name": "stdout",
     "output_type": "stream",
     "text": [
      "+---+-----------+---+--------------------+--------------------+------+---------------+-----------------------+--------------+---------------+----------+-------+\n",
      "|_c0|Clothing ID|Age|               Title|         Review Text|Rating|Recommended IND|Positive Feedback Count| Division Name|Department Name|Class Name|buckets|\n",
      "+---+-----------+---+--------------------+--------------------+------+---------------+-----------------------+--------------+---------------+----------+-------+\n",
      "|  0|        767| 33|                null|Absolutely wonder...|     4|              1|                      0|     Initmates|       Intimate| Intimates|    2.0|\n",
      "|  1|       1080| 34|                null|Love this dress! ...|     5|              1|                      4|       General|        Dresses|   Dresses|    2.0|\n",
      "|  2|       1077| 60|Some major design...|I had such high h...|     3|              0|                      0|       General|        Dresses|   Dresses|    8.0|\n",
      "|  3|       1049| 50|    My favorite buy!|I love, love, lov...|     5|              1|                      0|General Petite|        Bottoms|     Pants|    6.0|\n",
      "|  4|        847| 47|    Flattering shirt|This shirt is ver...|     5|              1|                      6|       General|           Tops|   Blouses|    5.0|\n",
      "|  5|       1080| 49|Not for the very ...|I love tracy rees...|     2|              0|                      4|       General|        Dresses|   Dresses|    5.0|\n",
      "|  6|        858| 39|Cagrcoal shimmer fun|I aded this in my...|     5|              1|                      1|General Petite|           Tops|     Knits|    3.0|\n",
      "|  7|        858| 39|Shimmer, surprisi...|I ordered this in...|     4|              1|                      4|General Petite|           Tops|     Knits|    3.0|\n",
      "|  8|       1077| 24|          Flattering|I love this dress...|     5|              1|                      0|       General|        Dresses|   Dresses|    0.0|\n",
      "|  9|       1077| 34|   Such a fun dress!|I'm 5\"5' and 125 ...|     5|              1|                      0|       General|        Dresses|   Dresses|    2.0|\n",
      "| 10|       1077| 53|Dress looks like ...|Dress runs small ...|     3|              0|                     14|       General|        Dresses|   Dresses|    6.0|\n",
      "| 11|       1095| 39|                null|This dress is per...|     5|              1|                      2|General Petite|        Dresses|   Dresses|    3.0|\n",
      "| 12|       1095| 53|          Perfect!!!|More and more i f...|     5|              1|                      2|General Petite|        Dresses|   Dresses|    6.0|\n",
      "| 13|        767| 44|            Runs big|Bought the black ...|     5|              1|                      0|     Initmates|       Intimate| Intimates|    4.0|\n",
      "| 14|       1077| 50|Pretty party dres...|This is a nice ch...|     3|              1|                      1|       General|        Dresses|   Dresses|    6.0|\n",
      "| 15|       1065| 47|Nice, but not for...|I took these out ...|     4|              1|                      3|       General|        Bottoms|     Pants|    5.0|\n",
      "| 16|       1065| 34|You need to be at...|Material and colo...|     3|              1|                      2|       General|        Bottoms|     Pants|    2.0|\n",
      "| 17|        853| 41|Looks great with ...|Took a chance on ...|     5|              1|                      0|       General|           Tops|   Blouses|    4.0|\n",
      "| 18|       1120| 32| Super cute and cozy|A flattering, sup...|     5|              1|                      0|       General|        Jackets| Outerwear|    2.0|\n",
      "| 19|       1077| 47|Stylish and comfo...|I love the look a...|     5|              1|                      0|       General|        Dresses|   Dresses|    5.0|\n",
      "+---+-----------+---+--------------------+--------------------+------+---------------+-----------------------+--------------+---------------+----------+-------+\n",
      "only showing top 20 rows\n",
      "\n"
     ]
    }
   ],
   "source": [
    "df_buck.show()"
   ]
  },
  {
   "cell_type": "code",
   "execution_count": null,
   "metadata": {},
   "outputs": [],
   "source": []
  }
 ],
 "metadata": {
  "kernelspec": {
   "display_name": "Python 3",
   "language": "python",
   "name": "python3"
  },
  "language_info": {
   "codemirror_mode": {
    "name": "ipython",
    "version": 3
   },
   "file_extension": ".py",
   "mimetype": "text/x-python",
   "name": "python",
   "nbconvert_exporter": "python",
   "pygments_lexer": "ipython3",
   "version": "3.6.7"
  }
 },
 "nbformat": 4,
 "nbformat_minor": 2
}
