{
 "cells": [
  {
   "cell_type": "code",
   "execution_count": null,
   "metadata": {},
   "outputs": [],
   "source": [
    "import pandas as pd\n",
    "from pyspark.ml.feature import Bucketizer\n",
    "\n",
    "\n",
    "bucketizer = Bucketizer(splits=[ 0, 25, 30, 35, 40, 45, 50, 55, 60, 65, 70, 75, 100, float('Inf') ],inputCol=\"Age\", \\\n",
    "                        outputCol=\"buckets\")\n",
    "df_buck = bucketizer.setHandleInvalid(\"keep\").transform(df1)\n"
   ]
  }
 ],
 "metadata": {
  "kernelspec": {
   "display_name": "Python 3",
   "language": "python",
   "name": "python3"
  },
  "language_info": {
   "codemirror_mode": {
    "name": "ipython",
    "version": 3
   },
   "file_extension": ".py",
   "mimetype": "text/x-python",
   "name": "python",
   "nbconvert_exporter": "python",
   "pygments_lexer": "ipython3",
   "version": "3.6.7"
  }
 },
 "nbformat": 4,
 "nbformat_minor": 2
}
