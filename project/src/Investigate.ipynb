{
 "cells": [
  {
   "cell_type": "code",
   "execution_count": 51,
   "metadata": {},
   "outputs": [],
   "source": [
    "df = spark.read.csv('../data/Reviews.csv', header=True, inferSchema=True)"
   ]
  },
  {
   "cell_type": "code",
   "execution_count": 52,
   "metadata": {},
   "outputs": [
    {
     "name": "stdout",
     "output_type": "stream",
     "text": [
      "root\n",
      " |-- _c0: string (nullable = true)\n",
      " |-- Clothing ID: string (nullable = true)\n",
      " |-- Age: string (nullable = true)\n",
      " |-- Title: string (nullable = true)\n",
      " |-- Review Text: string (nullable = true)\n",
      " |-- Rating: string (nullable = true)\n",
      " |-- Recommended IND: string (nullable = true)\n",
      " |-- Positive Feedback Count: string (nullable = true)\n",
      " |-- Division Name: string (nullable = true)\n",
      " |-- Department Name: string (nullable = true)\n",
      " |-- Class Name: string (nullable = true)\n",
      "\n"
     ]
    }
   ],
   "source": [
    "df.printSchema()"
   ]
  },
  {
   "cell_type": "code",
   "execution_count": 53,
   "metadata": {},
   "outputs": [
    {
     "name": "stdout",
     "output_type": "stream",
     "text": [
      "+--------------------+-----+\n",
      "|                 Age|count|\n",
      "+--------------------+-----+\n",
      "| and the size 29 ...|    1|\n",
      "| including my ver...|    1|\n",
      "| so it can be dre...|    1|\n",
      "| but i kept tryin...|    1|\n",
      "| it will still fa...|    1|\n",
      "| and i have very ...|    1|\n",
      "| which means more...|    1|\n",
      "| who convinced me...|    1|\n",
      "| but they are not...|    1|\n",
      "| just enough to g...|    1|\n",
      "|                  51|  393|\n",
      "| yet is too short...|    1|\n",
      "| and contrast det...|    1|\n",
      "| so the quality f...|    1|\n",
      "|               i ac\"|    1|\n",
      "| soft and did not...|    1|\n",
      "| 115 lbs for refe...|    1|\n",
      "| and overall it w...|    1|\n",
      "|               very.|    1|\n",
      "| so buy your usua...|    1|\n",
      "+--------------------+-----+\n",
      "only showing top 20 rows\n",
      "\n"
     ]
    }
   ],
   "source": [
    "df.groupBy(\"Age\").count().show()"
   ]
  },
  {
   "cell_type": "code",
   "execution_count": 54,
   "metadata": {},
   "outputs": [],
   "source": [
    "ages = df.select('Age')"
   ]
  },
  {
   "cell_type": "code",
   "execution_count": 55,
   "metadata": {},
   "outputs": [
    {
     "name": "stdout",
     "output_type": "stream",
     "text": [
      "+----+\n",
      "| Age|\n",
      "+----+\n",
      "|  33|\n",
      "|  34|\n",
      "|  60|\n",
      "|  50|\n",
      "|  47|\n",
      "|  49|\n",
      "|  39|\n",
      "|  39|\n",
      "|  24|\n",
      "|  34|\n",
      "|  53|\n",
      "|  39|\n",
      "|  53|\n",
      "|  44|\n",
      "|null|\n",
      "|null|\n",
      "|   1|\n",
      "|  50|\n",
      "|  47|\n",
      "|  34|\n",
      "+----+\n",
      "only showing top 20 rows\n",
      "\n"
     ]
    }
   ],
   "source": [
    "ages.show()"
   ]
  },
  {
   "cell_type": "code",
   "execution_count": 56,
   "metadata": {},
   "outputs": [
    {
     "data": {
      "text/plain": [
       "26928"
      ]
     },
     "execution_count": 56,
     "metadata": {},
     "output_type": "execute_result"
    }
   ],
   "source": [
    "ages.count()"
   ]
  },
  {
   "cell_type": "code",
   "execution_count": 57,
   "metadata": {},
   "outputs": [
    {
     "data": {
      "text/plain": [
       "910"
      ]
     },
     "execution_count": 57,
     "metadata": {},
     "output_type": "execute_result"
    }
   ],
   "source": [
    "ages.distinct().count()"
   ]
  },
  {
   "cell_type": "code",
   "execution_count": 58,
   "metadata": {},
   "outputs": [
    {
     "name": "stdout",
     "output_type": "stream",
     "text": [
      "+--------------------+\n",
      "|                 Age|\n",
      "+--------------------+\n",
      "| and the size 29 ...|\n",
      "| including my ver...|\n",
      "| so it can be dre...|\n",
      "| but i kept tryin...|\n",
      "| it will still fa...|\n",
      "| and i have very ...|\n",
      "| which means more...|\n",
      "| who convinced me...|\n",
      "| but they are not...|\n",
      "| just enough to g...|\n",
      "|                  51|\n",
      "| yet is too short...|\n",
      "| and contrast det...|\n",
      "| so the quality f...|\n",
      "|               i ac\"|\n",
      "| soft and did not...|\n",
      "| 115 lbs for refe...|\n",
      "| and overall it w...|\n",
      "|               very.|\n",
      "| so buy your usua...|\n",
      "+--------------------+\n",
      "only showing top 20 rows\n",
      "\n"
     ]
    }
   ],
   "source": [
    "ages.distinct().show()"
   ]
  },
  {
   "cell_type": "code",
   "execution_count": 62,
   "metadata": {},
   "outputs": [],
   "source": [
    "def age_filtering(age):\n",
    "    df.filter(df['Age'] == age).show()"
   ]
  },
  {
   "cell_type": "code",
   "execution_count": 64,
   "metadata": {},
   "outputs": [
    {
     "name": "stdout",
     "output_type": "stream",
     "text": [
      "+---+-----------+---+-----+-----------+------+---------------+-----------------------+-------------+---------------+----------+\n",
      "|_c0|Clothing ID|Age|Title|Review Text|Rating|Recommended IND|Positive Feedback Count|Division Name|Department Name|Class Name|\n",
      "+---+-----------+---+-----+-----------+------+---------------+-----------------------+-------------+---------------+----------+\n",
      "+---+-----------+---+-----+-----------+------+---------------+-----------------------+-------------+---------------+----------+\n",
      "\n"
     ]
    }
   ],
   "source": [
    "age_filtering('null')"
   ]
  },
  {
   "cell_type": "code",
   "execution_count": null,
   "metadata": {},
   "outputs": [],
   "source": [
    "age_filtering('null')"
   ]
  }
 ],
 "metadata": {
  "kernelspec": {
   "display_name": "Python 3",
   "language": "python",
   "name": "python3"
  },
  "language_info": {
   "codemirror_mode": {
    "name": "ipython",
    "version": 3
   },
   "file_extension": ".py",
   "mimetype": "text/x-python",
   "name": "python",
   "nbconvert_exporter": "python",
   "pygments_lexer": "ipython3",
   "version": "3.7.0"
  }
 },
 "nbformat": 4,
 "nbformat_minor": 2
}
