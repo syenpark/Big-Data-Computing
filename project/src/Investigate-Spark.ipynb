{
 "cells": [
  {
   "cell_type": "code",
   "execution_count": 1,
   "metadata": {},
   "outputs": [],
   "source": [
    "df = spark.read.option('quote', '\"').option('escape', '\"').option(\"delimiter\", \",\").option(\"multiLine\", True).csv('../data/Reviews.csv', header=True, inferSchema=True)"
   ]
  },
  {
   "cell_type": "code",
   "execution_count": 5,
   "metadata": {},
   "outputs": [
    {
     "name": "stdout",
     "output_type": "stream",
     "text": [
      "root\n",
      " |-- _c0: integer (nullable = true)\n",
      " |-- Clothing ID: integer (nullable = true)\n",
      " |-- Age: integer (nullable = true)\n",
      " |-- Title: string (nullable = true)\n",
      " |-- Review Text: string (nullable = true)\n",
      " |-- Rating: integer (nullable = true)\n",
      " |-- Recommended IND: integer (nullable = true)\n",
      " |-- Positive Feedback Count: integer (nullable = true)\n",
      " |-- Division Name: string (nullable = true)\n",
      " |-- Department Name: string (nullable = true)\n",
      " |-- Class Name: string (nullable = true)\n",
      "\n"
     ]
    }
   ],
   "source": [
    "df.printSchema()"
   ]
  },
  {
   "cell_type": "code",
   "execution_count": 6,
   "metadata": {},
   "outputs": [
    {
     "data": {
      "text/plain": [
       "[('_c0', 'int'),\n",
       " ('Clothing ID', 'int'),\n",
       " ('Age', 'int'),\n",
       " ('Title', 'string'),\n",
       " ('Review Text', 'string'),\n",
       " ('Rating', 'int'),\n",
       " ('Recommended IND', 'int'),\n",
       " ('Positive Feedback Count', 'int'),\n",
       " ('Division Name', 'string'),\n",
       " ('Department Name', 'string'),\n",
       " ('Class Name', 'string')]"
      ]
     },
     "execution_count": 6,
     "metadata": {},
     "output_type": "execute_result"
    }
   ],
   "source": [
    " df.dtypes"
   ]
  },
  {
   "cell_type": "code",
   "execution_count": 7,
   "metadata": {},
   "outputs": [
    {
     "name": "stdout",
     "output_type": "stream",
     "text": [
      "+---+-----+\n",
      "|Age|count|\n",
      "+---+-----+\n",
      "| 31|  569|\n",
      "| 85|    6|\n",
      "| 65|  226|\n",
      "| 53|  560|\n",
      "| 78|   15|\n",
      "| 34|  804|\n",
      "| 81|    5|\n",
      "| 28|  428|\n",
      "| 76|   10|\n",
      "| 27|  344|\n",
      "| 26|  423|\n",
      "| 44|  617|\n",
      "| 91|    5|\n",
      "| 22|  146|\n",
      "| 93|    2|\n",
      "| 47|  564|\n",
      "| 52|  442|\n",
      "| 86|    2|\n",
      "| 40|  617|\n",
      "| 20|  108|\n",
      "+---+-----+\n",
      "only showing top 20 rows\n",
      "\n"
     ]
    }
   ],
   "source": [
    "df.groupBy(\"Age\").count().show()"
   ]
  },
  {
   "cell_type": "code",
   "execution_count": 8,
   "metadata": {},
   "outputs": [],
   "source": [
    "ages = df.select('Age')"
   ]
  },
  {
   "cell_type": "code",
   "execution_count": 9,
   "metadata": {},
   "outputs": [
    {
     "name": "stdout",
     "output_type": "stream",
     "text": [
      "+---+\n",
      "|Age|\n",
      "+---+\n",
      "| 33|\n",
      "| 34|\n",
      "| 60|\n",
      "| 50|\n",
      "| 47|\n",
      "| 49|\n",
      "| 39|\n",
      "| 39|\n",
      "| 24|\n",
      "| 34|\n",
      "| 53|\n",
      "| 39|\n",
      "| 53|\n",
      "| 44|\n",
      "| 50|\n",
      "| 47|\n",
      "| 34|\n",
      "| 41|\n",
      "| 32|\n",
      "| 47|\n",
      "+---+\n",
      "only showing top 20 rows\n",
      "\n"
     ]
    }
   ],
   "source": [
    "ages.show()"
   ]
  },
  {
   "cell_type": "code",
   "execution_count": 10,
   "metadata": {},
   "outputs": [
    {
     "data": {
      "text/plain": [
       "23486"
      ]
     },
     "execution_count": 10,
     "metadata": {},
     "output_type": "execute_result"
    }
   ],
   "source": [
    "ages.count()"
   ]
  },
  {
   "cell_type": "code",
   "execution_count": 11,
   "metadata": {},
   "outputs": [
    {
     "data": {
      "text/plain": [
       "77"
      ]
     },
     "execution_count": 11,
     "metadata": {},
     "output_type": "execute_result"
    }
   ],
   "source": [
    "ages.distinct().count()"
   ]
  },
  {
   "cell_type": "code",
   "execution_count": 12,
   "metadata": {},
   "outputs": [
    {
     "name": "stdout",
     "output_type": "stream",
     "text": [
      "+---+\n",
      "|Age|\n",
      "+---+\n",
      "| 31|\n",
      "| 85|\n",
      "| 65|\n",
      "| 53|\n",
      "| 78|\n",
      "| 34|\n",
      "| 81|\n",
      "| 28|\n",
      "| 76|\n",
      "| 27|\n",
      "| 26|\n",
      "| 44|\n",
      "| 91|\n",
      "| 22|\n",
      "| 93|\n",
      "| 47|\n",
      "| 52|\n",
      "| 86|\n",
      "| 40|\n",
      "| 20|\n",
      "+---+\n",
      "only showing top 20 rows\n",
      "\n"
     ]
    }
   ],
   "source": [
    "ages.distinct().show()"
   ]
  },
  {
   "cell_type": "code",
   "execution_count": 13,
   "metadata": {},
   "outputs": [],
   "source": [
    "def age_filtering(age):\n",
    "    df.filter(df['Age'] == age).show()"
   ]
  },
  {
   "cell_type": "code",
   "execution_count": 14,
   "metadata": {},
   "outputs": [
    {
     "name": "stdout",
     "output_type": "stream",
     "text": [
      "+---+-----------+---+-----+-----------+------+---------------+-----------------------+-------------+---------------+----------+\n",
      "|_c0|Clothing ID|Age|Title|Review Text|Rating|Recommended IND|Positive Feedback Count|Division Name|Department Name|Class Name|\n",
      "+---+-----------+---+-----+-----------+------+---------------+-----------------------+-------------+---------------+----------+\n",
      "+---+-----------+---+-----+-----------+------+---------------+-----------------------+-------------+---------------+----------+\n",
      "\n"
     ]
    }
   ],
   "source": [
    "age_filtering('1')"
   ]
  },
  {
   "cell_type": "code",
   "execution_count": 15,
   "metadata": {},
   "outputs": [
    {
     "name": "stdout",
     "output_type": "stream",
     "text": [
      "+---+\n",
      "|Age|\n",
      "+---+\n",
      "| 33|\n",
      "| 34|\n",
      "| 60|\n",
      "| 50|\n",
      "| 47|\n",
      "| 49|\n",
      "| 39|\n",
      "| 39|\n",
      "| 24|\n",
      "| 34|\n",
      "| 53|\n",
      "| 39|\n",
      "| 53|\n",
      "| 44|\n",
      "| 50|\n",
      "| 47|\n",
      "| 34|\n",
      "| 41|\n",
      "| 32|\n",
      "| 47|\n",
      "+---+\n",
      "only showing top 20 rows\n",
      "\n"
     ]
    }
   ],
   "source": [
    "df.select(df.Age.cast(\"int\")).show()"
   ]
  },
  {
   "cell_type": "code",
   "execution_count": null,
   "metadata": {},
   "outputs": [],
   "source": []
  }
 ],
 "metadata": {
  "kernelspec": {
   "display_name": "Python 3",
   "language": "python",
   "name": "python3"
  },
  "language_info": {
   "codemirror_mode": {
    "name": "ipython",
    "version": 3
   },
   "file_extension": ".py",
   "mimetype": "text/x-python",
   "name": "python",
   "nbconvert_exporter": "python",
   "pygments_lexer": "ipython3",
   "version": "3.7.0"
  }
 },
 "nbformat": 4,
 "nbformat_minor": 2
}
