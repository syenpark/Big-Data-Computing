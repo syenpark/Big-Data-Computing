{
 "cells": [
  {
   "cell_type": "markdown",
   "metadata": {},
   "source": [
    "# Question 1: 5 pts\n",
    "Download the adjective-noun data sets here.\n",
    "\n",
    "Load it into spark and use divide-and-conquer to find the first (adj, noun) pair in which the noun is 'unification'. Print the corresponding adjective.  The skeleton code is provided below.  One solution is to use filter() to find all pairs where the noun is 'unification', and then report the first one.  This is inefficient.  The better idea is to find, in parallel, the first such pair in each partition (if one exists), and then find the first partition that returns such a pair."
   ]
  },
  {
   "cell_type": "code",
   "execution_count": 1,
   "metadata": {},
   "outputs": [
    {
     "data": {
      "text/plain": [
       "('several', 'unification')"
      ]
     },
     "execution_count": 1,
     "metadata": {},
     "output_type": "execute_result"
    }
   ],
   "source": [
    "numPartitions = 10\n",
    "path_to_file = \"adj_noun_pairs.txt\"\n",
    "\n",
    "lines = sc.textFile(path_to_file, numPartitions)\n",
    "pairs = lines.map(lambda l: tuple(l.split())).filter(lambda p: len(p) == 2)\n",
    "pairs.cache()\n",
    "\n",
    "# FILL IN YOUR CODE HERE\n",
    "def foo(iterator):\n",
    "    for i in iterator:\n",
    "        if i[1] == \"unification\":\n",
    "            yield i\n",
    "\n",
    "pairs.mapPartitions(foo).collect()[0]"
   ]
  },
  {
   "cell_type": "markdown",
   "metadata": {},
   "source": [
    "# Question 2: 5 pts\n",
    "Design a parallel divide-and-conquer algorithm for the following problem: Given two strings of equal length, compare them lexicographically. Output '<', '=', or '>', depending on the comparison result. The skeleton code is provided below.  Your code should run on all partitions of the rdd in parallel."
   ]
  },
  {
   "cell_type": "code",
   "execution_count": 4,
   "metadata": {},
   "outputs": [
    {
     "data": {
      "text/plain": [
       "['=',\n",
       " '=',\n",
       " '=',\n",
       " '=',\n",
       " '=',\n",
       " '=',\n",
       " '=',\n",
       " '<',\n",
       " '=',\n",
       " '=',\n",
       " '=',\n",
       " '=',\n",
       " '=',\n",
       " '=',\n",
       " '=',\n",
       " '=',\n",
       " '=',\n",
       " '=',\n",
       " '=',\n",
       " '=']"
      ]
     },
     "execution_count": 4,
     "metadata": {},
     "output_type": "execute_result"
    }
   ],
   "source": [
    "x = 'abcccbcbcacaccacaabb'\n",
    "y = 'abcccbcccacaccacaabb'\n",
    "\n",
    "numPartitions = 4\n",
    "rdd = sc.parallelize(zip(x, y), numPartitions)\n",
    "\n",
    "# FILL IN YOUR CODE HERE\n",
    "def compare(index, iterator):\n",
    "    for x, y in iterator:\n",
    "        if x == y:\n",
    "            yield '='\n",
    "        elif x < y:\n",
    "            yield '<'\n",
    "        else:\n",
    "            yield '>'\n",
    "\n",
    "compared = rdd.mapPartitionsWithIndex(compare)\n",
    "compared.collect()"
   ]
  },
  {
   "cell_type": "code",
   "execution_count": null,
   "metadata": {},
   "outputs": [],
   "source": []
  }
 ],
 "metadata": {
  "kernelspec": {
   "display_name": "Python 3",
   "language": "python",
   "name": "python3"
  },
  "language_info": {
   "codemirror_mode": {
    "name": "ipython",
    "version": 3
   },
   "file_extension": ".py",
   "mimetype": "text/x-python",
   "name": "python",
   "nbconvert_exporter": "python",
   "pygments_lexer": "ipython3",
   "version": "3.7.0"
  }
 },
 "nbformat": 4,
 "nbformat_minor": 2
}
