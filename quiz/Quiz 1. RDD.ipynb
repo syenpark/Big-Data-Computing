{
 "cells": [
  {
   "cell_type": "code",
   "execution_count": null,
   "metadata": {},
   "outputs": [],
   "source": [
    "\"\"\"\n",
    "Question 1 2 pts\n",
    "The following piece of code computes the frequencies of the words in a text file:\n",
    "\"\"\"\n",
    "from operator import add\n",
    "lines = sc.textFile('README.md')\n",
    "counts = lines.flatMap(lambda x: x.split()) \\\n",
    "              .map(lambda x: (x, 1)) \\\n",
    "              .reduceByKey(add)\n",
    "\n",
    "# Add one line to find the most frequent word. Output this word and its frequency.\n",
    "\n",
    "# Hint: Use sortBy(), reduce(), or max()"
   ]
  },
  {
   "cell_type": "code",
   "execution_count": null,
   "metadata": {},
   "outputs": [],
   "source": [
    "\"\"\"\n",
    "Question 2 2 pts\n",
    "Modify the word count example above\n",
    ", so that we only count the frequencies of those words consisting of 5 or more characters.\n",
    "\"\"\""
   ]
  },
  {
   "cell_type": "code",
   "execution_count": null,
   "metadata": {},
   "outputs": [],
   "source": [
    "\"\"\"\n",
    "Question 3 1 pts\n",
    "Consider the following piece of code:\n",
    "\"\"\"\n",
    "A = sc.parallelize(xrange(1, 100))\n",
    "t = 50\n",
    "B = A.filter(lambda x: x < t)\n",
    "print B.count()\n",
    "t = 10\n",
    "C = B.filter(lambda x: x > t)\n",
    "print C.count()\n",
    "\n",
    "# What's its output? (Yes, you can just run it.)"
   ]
  },
  {
   "cell_type": "code",
   "execution_count": null,
   "metadata": {},
   "outputs": [],
   "source": [
    "\"\"\"\n",
    "Question 4 2 pts\n",
    "The intent of the code above is to get all numbers below 50 from A and put them into B\n",
    ", and then get all numbers above 10 from B and put them into C.  \n",
    "Fix the code so that it produces the desired behavior, by adding one line of code.  \n",
    "You are not allowed to change the existing code.\n",
    "\"\"\""
   ]
  },
  {
   "cell_type": "code",
   "execution_count": null,
   "metadata": {},
   "outputs": [],
   "source": [
    "\"\"\"\n",
    "Question 5 3 pts\n",
    "Modify the PMI example by sending a_dict and n_dict inside the closure. Do not use broadcast variables.\n",
    "\"\"\""
   ]
  }
 ],
 "metadata": {
  "kernelspec": {
   "display_name": "Python 3",
   "language": "python",
   "name": "python3"
  },
  "language_info": {
   "codemirror_mode": {
    "name": "ipython",
    "version": 3
   },
   "file_extension": ".py",
   "mimetype": "text/x-python",
   "name": "python",
   "nbconvert_exporter": "python",
   "pygments_lexer": "ipython3",
   "version": "3.6.6"
  }
 },
 "nbformat": 4,
 "nbformat_minor": 2
}
