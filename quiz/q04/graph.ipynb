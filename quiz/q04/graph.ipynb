{
 "cells": [
  {
   "cell_type": "code",
   "execution_count": 2,
   "metadata": {
    "collapsed": false,
    "deletable": true,
    "editable": true
   },
   "outputs": [],
   "source": [
    "sc.addPyFile(\"../graphframes-0.5.0-spark2.1-s_2.11.jar\")"
   ]
  },
  {
   "cell_type": "code",
   "execution_count": 3,
   "metadata": {
    "collapsed": false,
    "deletable": true,
    "editable": true
   },
   "outputs": [],
   "source": [
    "from graphframes import *\n",
    "from pyspark.sql.functions import *"
   ]
  },
  {
   "cell_type": "code",
   "execution_count": 5,
   "metadata": {
    "collapsed": false,
    "deletable": true,
    "editable": true,
    "scrolled": false
   },
   "outputs": [
    {
     "name": "stdout",
     "output_type": "stream",
     "text": [
      "+---+-------+---+\n",
      "| id|   name|age|\n",
      "+---+-------+---+\n",
      "|  a|  Alice| 34|\n",
      "|  b|    Bob| 36|\n",
      "|  c|Charlie| 37|\n",
      "|  d|  David| 29|\n",
      "|  e| Esther| 32|\n",
      "|  f|  Fanny| 38|\n",
      "|  g|  Gabby| 60|\n",
      "+---+-------+---+\n",
      "\n",
      "+---+---+------------+\n",
      "|src|dst|relationship|\n",
      "+---+---+------------+\n",
      "|  a|  b|      friend|\n",
      "|  b|  c|      follow|\n",
      "|  c|  b|      follow|\n",
      "|  f|  c|      follow|\n",
      "|  e|  f|      follow|\n",
      "|  e|  d|      friend|\n",
      "|  d|  a|      friend|\n",
      "|  a|  e|      friend|\n",
      "|  g|  e|      follow|\n",
      "+---+---+------------+\n",
      "\n"
     ]
    }
   ],
   "source": [
    "# Vertics DataFrame\n",
    "v = spark.createDataFrame([\n",
    "  (\"a\", \"Alice\", 34),\n",
    "  (\"b\", \"Bob\", 36),\n",
    "  (\"c\", \"Charlie\", 37),\n",
    "  (\"d\", \"David\", 29),\n",
    "  (\"e\", \"Esther\", 32),\n",
    "  (\"f\", \"Fanny\", 38),\n",
    "  (\"g\", \"Gabby\", 60)\n",
    "], [\"id\", \"name\", \"age\"])\n",
    "\n",
    "# Edges DataFrame\n",
    "e = spark.createDataFrame([\n",
    "  (\"a\", \"b\", \"friend\"),\n",
    "  (\"b\", \"c\", \"follow\"),\n",
    "  (\"c\", \"b\", \"follow\"),\n",
    "  (\"f\", \"c\", \"follow\"),\n",
    "  (\"e\", \"f\", \"follow\"),\n",
    "  (\"e\", \"d\", \"friend\"),\n",
    "  (\"d\", \"a\", \"friend\"),\n",
    "  (\"a\", \"e\", \"friend\"),\n",
    "  (\"g\", \"e\", \"follow\")\n",
    "], [\"src\", \"dst\", \"relationship\"])\n",
    "\n",
    "# Create a GraphFrame\n",
    "g = GraphFrame(v, e)\n",
    "\n",
    "g.vertices.show()\n",
    "g.edges.show()"
   ]
  },
  {
   "cell_type": "code",
   "execution_count": 5,
   "metadata": {
    "collapsed": false,
    "deletable": true,
    "editable": true
   },
   "outputs": [
    {
     "name": "stdout",
     "output_type": "stream",
     "text": [
      "+---+---+------------+\n",
      "|src|dst|relationship|\n",
      "+---+---+------------+\n",
      "|  a|  b|      friend|\n",
      "|  a|  e|      friend|\n",
      "+---+---+------------+\n",
      "\n"
     ]
    }
   ],
   "source": [
    "# g.vertices and g.edges are just DataFrames\n",
    "# You can use any DataFrame API on them\n",
    "\n",
    "g.edges.filter(\"src = 'a'\").show()"
   ]
  },
  {
   "cell_type": "code",
   "execution_count": 6,
   "metadata": {
    "collapsed": false,
    "deletable": true,
    "editable": true
   },
   "outputs": [
    {
     "data": {
      "text/plain": [
       "2"
      ]
     },
     "execution_count": 6,
     "metadata": {},
     "output_type": "execute_result"
    }
   ],
   "source": [
    "g.edges.filter(\"src = 'a'\").count()"
   ]
  },
  {
   "cell_type": "code",
   "execution_count": 7,
   "metadata": {
    "collapsed": false,
    "deletable": true,
    "editable": true
   },
   "outputs": [
    {
     "name": "stdout",
     "output_type": "stream",
     "text": [
      "2\n"
     ]
    }
   ],
   "source": [
    "# Count the number of followers of c.\n",
    "# This queries the edge DataFrame.\n",
    "print g.edges.filter(\"relationship = 'follow' and dst = 'c'\").count()"
   ]
  },
  {
   "cell_type": "code",
   "execution_count": 8,
   "metadata": {
    "collapsed": false,
    "deletable": true,
    "editable": true
   },
   "outputs": [
    {
     "name": "stdout",
     "output_type": "stream",
     "text": [
      "+---+---------+\n",
      "| id|outDegree|\n",
      "+---+---------+\n",
      "|  g|        1|\n",
      "|  f|        1|\n",
      "|  e|        2|\n",
      "|  d|        1|\n",
      "|  c|        1|\n",
      "|  b|        1|\n",
      "|  a|        2|\n",
      "+---+---------+\n",
      "\n"
     ]
    }
   ],
   "source": [
    "# A GraphFrame has additional attributes\n",
    "\n",
    "g.outDegrees.show()"
   ]
  },
  {
   "cell_type": "code",
   "execution_count": 9,
   "metadata": {
    "collapsed": false,
    "deletable": true,
    "editable": true
   },
   "outputs": [
    {
     "name": "stdout",
     "output_type": "stream",
     "text": [
      "+---+--------+\n",
      "| id|inDegree|\n",
      "+---+--------+\n",
      "|  f|       1|\n",
      "|  e|       2|\n",
      "|  d|       1|\n",
      "|  c|       2|\n",
      "|  b|       2|\n",
      "|  a|       1|\n",
      "+---+--------+\n",
      "\n"
     ]
    }
   ],
   "source": [
    "g.inDegrees.show()"
   ]
  },
  {
   "cell_type": "code",
   "execution_count": 10,
   "metadata": {
    "collapsed": false,
    "deletable": true,
    "editable": true
   },
   "outputs": [
    {
     "name": "stdout",
     "output_type": "stream",
     "text": [
      "== Physical Plan ==\n",
      "*HashAggregate(keys=[dst#8], functions=[count(1)])\n",
      "+- Exchange hashpartitioning(dst#8, 200)\n",
      "   +- *HashAggregate(keys=[dst#8], functions=[partial_count(1)])\n",
      "      +- *Project [dst#8]\n",
      "         +- Scan ExistingRDD[src#7,dst#8,relationship#9]\n"
     ]
    }
   ],
   "source": [
    "g.inDegrees.explain()"
   ]
  },
  {
   "cell_type": "code",
   "execution_count": 11,
   "metadata": {
    "collapsed": false,
    "deletable": true,
    "editable": true
   },
   "outputs": [
    {
     "name": "stdout",
     "output_type": "stream",
     "text": [
      "+---+--------+\n",
      "| id|inDegree|\n",
      "+---+--------+\n",
      "|  f|       1|\n",
      "|  e|       2|\n",
      "|  d|       1|\n",
      "|  c|       2|\n",
      "|  b|       2|\n",
      "|  a|       1|\n",
      "+---+--------+\n",
      "\n"
     ]
    }
   ],
   "source": [
    "myInDegrees = g.edges.groupBy('dst').count()\\\n",
    "               .withColumnRenamed('dst', 'id').withColumnRenamed('count', 'inDegree')\n",
    "myInDegrees.show()"
   ]
  },
  {
   "cell_type": "code",
   "execution_count": 12,
   "metadata": {
    "collapsed": false,
    "deletable": true,
    "editable": true
   },
   "outputs": [
    {
     "name": "stdout",
     "output_type": "stream",
     "text": [
      "== Physical Plan ==\n",
      "*HashAggregate(keys=[dst#8], functions=[count(1)])\n",
      "+- Exchange hashpartitioning(dst#8, 200)\n",
      "   +- *HashAggregate(keys=[dst#8], functions=[partial_count(1)])\n",
      "      +- *Project [dst#8]\n",
      "         +- Scan ExistingRDD[src#7,dst#8,relationship#9]\n"
     ]
    }
   ],
   "source": [
    "myInDegrees.explain()"
   ]
  },
  {
   "cell_type": "code",
   "execution_count": 6,
   "metadata": {
    "collapsed": false,
    "deletable": true,
    "editable": true
   },
   "outputs": [
    {
     "name": "stdout",
     "output_type": "stream",
     "text": [
      "Serialized 1x Replicated\n"
     ]
    }
   ],
   "source": [
    "print g.inDegrees.storageLevel"
   ]
  },
  {
   "cell_type": "code",
   "execution_count": 7,
   "metadata": {
    "collapsed": false,
    "deletable": true,
    "editable": true
   },
   "outputs": [
    {
     "data": {
      "text/plain": [
       "DataFrame[id: string, inDegree: int]"
      ]
     },
     "execution_count": 7,
     "metadata": {},
     "output_type": "execute_result"
    }
   ],
   "source": [
    "g.inDegrees.cache()"
   ]
  },
  {
   "cell_type": "code",
   "execution_count": 8,
   "metadata": {
    "collapsed": false,
    "deletable": true,
    "editable": true
   },
   "outputs": [
    {
     "name": "stdout",
     "output_type": "stream",
     "text": [
      "Disk Memory Deserialized 1x Replicated\n"
     ]
    }
   ],
   "source": [
    "print g.inDegrees.storageLevel"
   ]
  },
  {
   "cell_type": "code",
   "execution_count": 9,
   "metadata": {
    "collapsed": false,
    "deletable": true,
    "editable": true
   },
   "outputs": [
    {
     "name": "stdout",
     "output_type": "stream",
     "text": [
      "Serialized 1x Replicated\n"
     ]
    }
   ],
   "source": [
    "print g.vertices.storageLevel"
   ]
  },
  {
   "cell_type": "code",
   "execution_count": 11,
   "metadata": {
    "collapsed": false,
    "deletable": true,
    "editable": true
   },
   "outputs": [
    {
     "data": {
      "text/plain": [
       "GraphFrame(v:[id: string, name: string ... 1 more field], e:[src: string, dst: string ... 1 more field])"
      ]
     },
     "execution_count": 11,
     "metadata": {},
     "output_type": "execute_result"
    }
   ],
   "source": [
    "g.cache()"
   ]
  },
  {
   "cell_type": "code",
   "execution_count": 12,
   "metadata": {
    "collapsed": false,
    "deletable": true,
    "editable": true
   },
   "outputs": [
    {
     "name": "stdout",
     "output_type": "stream",
     "text": [
      "Disk Memory Deserialized 1x Replicated\n",
      "Disk Memory Deserialized 1x Replicated\n"
     ]
    }
   ],
   "source": [
    "print g.vertices.storageLevel\n",
    "print g.edges.storageLevel"
   ]
  },
  {
   "cell_type": "code",
   "execution_count": 19,
   "metadata": {
    "collapsed": false,
    "deletable": true,
    "editable": true
   },
   "outputs": [
    {
     "name": "stdout",
     "output_type": "stream",
     "text": [
      "+--------------+------------+--------------+\n",
      "|           src|        edge|           dst|\n",
      "+--------------+------------+--------------+\n",
      "| [e,Esther,32]|[e,f,follow]|  [f,Fanny,38]|\n",
      "|  [g,Gabby,60]|[g,e,follow]| [e,Esther,32]|\n",
      "|  [a,Alice,34]|[a,e,friend]| [e,Esther,32]|\n",
      "| [e,Esther,32]|[e,d,friend]|  [d,David,29]|\n",
      "|  [f,Fanny,38]|[f,c,follow]|[c,Charlie,37]|\n",
      "|    [b,Bob,36]|[b,c,follow]|[c,Charlie,37]|\n",
      "|[c,Charlie,37]|[c,b,follow]|    [b,Bob,36]|\n",
      "|  [a,Alice,34]|[a,b,friend]|    [b,Bob,36]|\n",
      "|  [d,David,29]|[d,a,friend]|  [a,Alice,34]|\n",
      "+--------------+------------+--------------+\n",
      "\n"
     ]
    }
   ],
   "source": [
    "# A triplet view of the graph\n",
    "\n",
    "g.triplets.show()"
   ]
  },
  {
   "cell_type": "markdown",
   "metadata": {
    "deletable": true,
    "editable": true
   },
   "source": [
    "### Motif Finding"
   ]
  },
  {
   "cell_type": "code",
   "execution_count": 17,
   "metadata": {
    "collapsed": false,
    "deletable": true,
    "editable": true
   },
   "outputs": [
    {
     "name": "stdout",
     "output_type": "stream",
     "text": [
      "+----------+--------------+\n",
      "|         a|             b|\n",
      "+----------+--------------+\n",
      "|[b,Bob,36]|[c,Charlie,37]|\n",
      "+----------+--------------+\n",
      "\n"
     ]
    }
   ],
   "source": [
    "# Search for pairs of vertices with edges in both directions between them.\n",
    "motifs = g.find(\"(a)-[]->(b); (b)-[]->(a)\")#.filter('a.id < b.id')\n",
    "motifs.show()"
   ]
  },
  {
   "cell_type": "code",
   "execution_count": 18,
   "metadata": {
    "collapsed": false,
    "deletable": true,
    "editable": true
   },
   "outputs": [
    {
     "name": "stdout",
     "output_type": "stream",
     "text": [
      "+------------+-------------+------------+\n",
      "|           a|            b|           c|\n",
      "+------------+-------------+------------+\n",
      "|[a,Alice,34]|[e,Esther,32]|[d,David,29]|\n",
      "+------------+-------------+------------+\n",
      "\n"
     ]
    }
   ],
   "source": [
    "# Find triangles\n",
    "\n",
    "triangles = g.find(\"(a)-[]->(b); (b)-[]->(c); (c)-[]->(a)\")\n",
    "triangles = triangles.filter(\"a.id < b.id AND a.id < c.id\")\n",
    "triangles.show()"
   ]
  },
  {
   "cell_type": "code",
   "execution_count": 22,
   "metadata": {
    "collapsed": false,
    "deletable": true,
    "editable": true
   },
   "outputs": [
    {
     "name": "stdout",
     "output_type": "stream",
     "text": [
      "== Physical Plan ==\n",
      "*Project [a#379, b#382, c#418]\n",
      "+- *BroadcastHashJoin [c#418.id, a#379.id], [__tmp-6526019406657860729#458.src, __tmp-6526019406657860729#458.dst], Inner, BuildRight\n",
      "   :- *Project [a#379, b#382, c#418]\n",
      "   :  +- *BroadcastHashJoin [__tmp-430217833014886237#415.dst], [c#418.id], Inner, BuildRight, (a#379.id < c#418.id)\n",
      "   :     :- *BroadcastHashJoin [b#382.id], [__tmp-430217833014886237#415.src], Inner, BuildRight\n",
      "   :     :  :- *Project [a#379, b#382]\n",
      "   :     :  :  +- *BroadcastHashJoin [__tmp-1043886091038848698#376.dst], [b#382.id], Inner, BuildRight, (a#379.id < b#382.id)\n",
      "   :     :  :     :- *BroadcastHashJoin [__tmp-1043886091038848698#376.src], [a#379.id], Inner, BuildRight\n",
      "   :     :  :     :  :- *Project [named_struct(src, src#7, dst, dst#8, relationship, relationship#9) AS __tmp-1043886091038848698#376]\n",
      "   :     :  :     :  :  +- InMemoryTableScan [src#7, dst#8, relationship#9]\n",
      "   :     :  :     :  :        +- InMemoryRelation [src#7, dst#8, relationship#9], true, 10000, StorageLevel(disk, memory, deserialized, 1 replicas)\n",
      "   :     :  :     :  :              +- Scan ExistingRDD[src#7,dst#8,relationship#9]\n",
      "   :     :  :     :  +- BroadcastExchange HashedRelationBroadcastMode(List(input[0, struct<id:string,name:string,age:bigint>, false].id))\n",
      "   :     :  :     :     +- *Project [named_struct(id, id#0, name, name#1, age, age#2L) AS a#379]\n",
      "   :     :  :     :        +- InMemoryTableScan [id#0, name#1, age#2L]\n",
      "   :     :  :     :              +- InMemoryRelation [id#0, name#1, age#2L], true, 10000, StorageLevel(disk, memory, deserialized, 1 replicas)\n",
      "   :     :  :     :                    +- Scan ExistingRDD[id#0,name#1,age#2L]\n",
      "   :     :  :     +- BroadcastExchange HashedRelationBroadcastMode(List(input[0, struct<id:string,name:string,age:bigint>, false].id))\n",
      "   :     :  :        +- *Project [named_struct(id, id#0, name, name#1, age, age#2L) AS b#382]\n",
      "   :     :  :           +- InMemoryTableScan [id#0, name#1, age#2L]\n",
      "   :     :  :                 +- InMemoryRelation [id#0, name#1, age#2L], true, 10000, StorageLevel(disk, memory, deserialized, 1 replicas)\n",
      "   :     :  :                       +- Scan ExistingRDD[id#0,name#1,age#2L]\n",
      "   :     :  +- BroadcastExchange HashedRelationBroadcastMode(List(input[0, struct<src:string,dst:string,relationship:string>, false].src))\n",
      "   :     :     +- *Project [named_struct(src, src#7, dst, dst#8, relationship, relationship#9) AS __tmp-430217833014886237#415]\n",
      "   :     :        +- InMemoryTableScan [src#7, dst#8, relationship#9]\n",
      "   :     :              +- InMemoryRelation [src#7, dst#8, relationship#9], true, 10000, StorageLevel(disk, memory, deserialized, 1 replicas)\n",
      "   :     :                    +- Scan ExistingRDD[src#7,dst#8,relationship#9]\n",
      "   :     +- BroadcastExchange HashedRelationBroadcastMode(List(input[0, struct<id:string,name:string,age:bigint>, false].id))\n",
      "   :        +- *Project [named_struct(id, id#0, name, name#1, age, age#2L) AS c#418]\n",
      "   :           +- InMemoryTableScan [id#0, name#1, age#2L]\n",
      "   :                 +- InMemoryRelation [id#0, name#1, age#2L], true, 10000, StorageLevel(disk, memory, deserialized, 1 replicas)\n",
      "   :                       +- Scan ExistingRDD[id#0,name#1,age#2L]\n",
      "   +- BroadcastExchange HashedRelationBroadcastMode(List(input[0, struct<src:string,dst:string,relationship:string>, false].src, input[0, struct<src:string,dst:string,relationship:string>, false].dst))\n",
      "      +- *Project [named_struct(src, src#7, dst, dst#8, relationship, relationship#9) AS __tmp-6526019406657860729#458]\n",
      "         +- InMemoryTableScan [src#7, dst#8, relationship#9]\n",
      "               +- InMemoryRelation [src#7, dst#8, relationship#9], true, 10000, StorageLevel(disk, memory, deserialized, 1 replicas)\n",
      "                     +- Scan ExistingRDD[src#7,dst#8,relationship#9]\n"
     ]
    }
   ],
   "source": [
    "triangles.explain()"
   ]
  },
  {
   "cell_type": "code",
   "execution_count": 23,
   "metadata": {
    "collapsed": false,
    "deletable": true,
    "editable": true
   },
   "outputs": [
    {
     "name": "stdout",
     "output_type": "stream",
     "text": [
      "+-------------+--------------+\n",
      "|            a|             b|\n",
      "+-------------+--------------+\n",
      "| [a,Alice,34]| [e,Esther,32]|\n",
      "|[e,Esther,32]|  [d,David,29]|\n",
      "| [a,Alice,34]|    [b,Bob,36]|\n",
      "| [g,Gabby,60]| [e,Esther,32]|\n",
      "|[e,Esther,32]|  [f,Fanny,38]|\n",
      "| [f,Fanny,38]|[c,Charlie,37]|\n",
      "| [d,David,29]|  [a,Alice,34]|\n",
      "+-------------+--------------+\n",
      "\n"
     ]
    }
   ],
   "source": [
    "# Negation\n",
    "oneway = g.find(\"(a)-[]->(b); !(b)-[]->(a)\")\n",
    "oneway.show()"
   ]
  },
  {
   "cell_type": "code",
   "execution_count": 24,
   "metadata": {
    "collapsed": false,
    "deletable": true,
    "editable": true
   },
   "outputs": [
    {
     "data": {
      "text/plain": [
       "Name: org.apache.toree.interpreter.broker.BrokerException\n",
       "Message: Py4JJavaError: An error occurred while calling o64.find.\n",
       ": org.graphframes.InvalidPatternException\n",
       "\tat org.graphframes.GraphFrame$.org$graphframes$GraphFrame$$findIncremental(GraphFrame.scala:892)\n",
       "\tat org.graphframes.GraphFrame.findSimple(GraphFrame.scala:441)\n",
       "\tat org.graphframes.GraphFrame.find(GraphFrame.scala:316)\n",
       "\tat sun.reflect.NativeMethodAccessorImpl.invoke0(Native Method)\n",
       "\tat sun.reflect.NativeMethodAccessorImpl.invoke(NativeMethodAccessorImpl.java:62)\n",
       "\tat sun.reflect.DelegatingMethodAccessorImpl.invoke(DelegatingMethodAccessorImpl.java:43)\n",
       "\tat java.lang.reflect.Method.invoke(Method.java:498)\n",
       "\tat py4j.reflection.MethodInvoker.invoke(MethodInvoker.java:244)\n",
       "\tat py4j.reflection.ReflectionEngine.invoke(ReflectionEngine.java:357)\n",
       "\tat py4j.Gateway.invoke(Gateway.java:280)\n",
       "\tat py4j.commands.AbstractCommand.invokeMethod(AbstractCommand.java:132)\n",
       "\tat py4j.commands.CallCommand.execute(CallCommand.java:79)\n",
       "\tat py4j.GatewayConnection.run(GatewayConnection.java:214)\n",
       "\tat java.lang.Thread.run(Thread.java:748)\n",
       "\n",
       "(<class 'py4j.protocol.Py4JJavaError'>, Py4JJavaError(u'An error occurred while calling o64.find.\\n', JavaObject id=o117), <traceback object at 0x7fe49e66dc68>)\n",
       "StackTrace: org.apache.toree.interpreter.broker.BrokerState$$anonfun$markFailure$1.apply(BrokerState.scala:163)\n",
       "org.apache.toree.interpreter.broker.BrokerState$$anonfun$markFailure$1.apply(BrokerState.scala:163)\n",
       "scala.Option.foreach(Option.scala:257)\n",
       "org.apache.toree.interpreter.broker.BrokerState.markFailure(BrokerState.scala:162)\n",
       "sun.reflect.NativeMethodAccessorImpl.invoke0(Native Method)\n",
       "sun.reflect.NativeMethodAccessorImpl.invoke(NativeMethodAccessorImpl.java:62)\n",
       "sun.reflect.DelegatingMethodAccessorImpl.invoke(DelegatingMethodAccessorImpl.java:43)\n",
       "java.lang.reflect.Method.invoke(Method.java:498)\n",
       "py4j.reflection.MethodInvoker.invoke(MethodInvoker.java:244)\n",
       "py4j.reflection.ReflectionEngine.invoke(ReflectionEngine.java:357)\n",
       "py4j.Gateway.invoke(Gateway.java:280)\n",
       "py4j.commands.AbstractCommand.invokeMethod(AbstractCommand.java:132)\n",
       "py4j.commands.CallCommand.execute(CallCommand.java:79)\n",
       "py4j.GatewayConnection.run(GatewayConnection.java:214)\n",
       "java.lang.Thread.run(Thread.java:748)"
      ]
     },
     "execution_count": 24,
     "metadata": {},
     "output_type": "execute_result"
    }
   ],
   "source": [
    "# Find vertices without incoming edges. This is wrong:\n",
    "g.find('!()-[]->(a)').show()\n",
    "# Because negation is implemented as a subtraction"
   ]
  },
  {
   "cell_type": "code",
   "execution_count": 19,
   "metadata": {
    "collapsed": false,
    "deletable": true,
    "editable": true
   },
   "outputs": [
    {
     "name": "stdout",
     "output_type": "stream",
     "text": [
      "+---+----+---+--------+\n",
      "| id|name|age|inDegree|\n",
      "+---+----+---+--------+\n",
      "+---+----+---+--------+\n",
      "\n"
     ]
    }
   ],
   "source": [
    "# Still doesn't work:\n",
    "g.vertices.join(g.inDegrees, 'id').filter('inDegree=0').show()"
   ]
  },
  {
   "cell_type": "code",
   "execution_count": 26,
   "metadata": {
    "collapsed": false,
    "deletable": true,
    "editable": true,
    "scrolled": false
   },
   "outputs": [
    {
     "name": "stdout",
     "output_type": "stream",
     "text": [
      "+---+--------+\n",
      "| id|inDegree|\n",
      "+---+--------+\n",
      "|  f|       1|\n",
      "|  e|       2|\n",
      "|  d|       1|\n",
      "|  c|       2|\n",
      "|  b|       2|\n",
      "|  a|       1|\n",
      "+---+--------+\n",
      "\n"
     ]
    }
   ],
   "source": [
    "# Why? Because inDegree is computed by a groupBy followed by a count\n",
    "g.inDegrees.show()"
   ]
  },
  {
   "cell_type": "code",
   "execution_count": 24,
   "metadata": {
    "collapsed": false,
    "deletable": true,
    "editable": true
   },
   "outputs": [
    {
     "name": "stdout",
     "output_type": "stream",
     "text": [
      "+---+-----+---+--------+\n",
      "| id| name|age|inDegree|\n",
      "+---+-----+---+--------+\n",
      "|  g|Gabby| 60|    null|\n",
      "+---+-----+---+--------+\n",
      "\n"
     ]
    }
   ],
   "source": [
    "# Correct way:\n",
    "g.vertices.join(g.inDegrees, 'id', 'left_outer').filter('inDegree is null').show()"
   ]
  },
  {
   "cell_type": "code",
   "execution_count": 28,
   "metadata": {
    "collapsed": false,
    "deletable": true,
    "editable": true
   },
   "outputs": [
    {
     "name": "stdout",
     "output_type": "stream",
     "text": [
      "+---+-----+---+\n",
      "| id| name|age|\n",
      "+---+-----+---+\n",
      "|  g|Gabby| 60|\n",
      "+---+-----+---+\n",
      "\n"
     ]
    }
   ],
   "source": [
    "# Or use subtract:\n",
    "g.vertices.select('id').subtract(g.inDegrees.select('id')).join(g.vertices,'id').show()"
   ]
  },
  {
   "cell_type": "code",
   "execution_count": 29,
   "metadata": {
    "collapsed": false,
    "deletable": true,
    "editable": true
   },
   "outputs": [
    {
     "name": "stdout",
     "output_type": "stream",
     "text": [
      "+----------+--------------+\n",
      "|         a|             b|\n",
      "+----------+--------------+\n",
      "|[b,Bob,36]|[c,Charlie,37]|\n",
      "+----------+--------------+\n",
      "\n"
     ]
    }
   ],
   "source": [
    "# More meaningful queries can be expressed by applying filters.\n",
    "# Question: where is this filter applied?\n",
    "\n",
    "g.find(\"(a)-[]->(b); (b)-[]->(a)\").filter(\"b.age > 36\").show()"
   ]
  },
  {
   "cell_type": "code",
   "execution_count": 27,
   "metadata": {
    "collapsed": false,
    "deletable": true,
    "editable": true
   },
   "outputs": [
    {
     "name": "stdout",
     "output_type": "stream",
     "text": [
      "== Physical Plan ==\n",
      "*Project [a#1523, b#1526]\n",
      "+- *SortMergeJoin [b#1526.id, a#1523.id], [__tmp4002724160828027973#1559.src, __tmp4002724160828027973#1559.dst], Inner\n",
      "   :- *Sort [b#1526.id ASC NULLS FIRST, a#1523.id ASC NULLS FIRST], false, 0\n",
      "   :  +- Exchange hashpartitioning(b#1526.id, a#1523.id, 200)\n",
      "   :     +- *Project [a#1523, b#1526]\n",
      "   :        +- *SortMergeJoin [__tmp-8883747752747123924#1520.dst], [b#1526.id], Inner\n",
      "   :           :- *Sort [__tmp-8883747752747123924#1520.dst ASC NULLS FIRST], false, 0\n",
      "   :           :  +- Exchange hashpartitioning(__tmp-8883747752747123924#1520.dst, 200)\n",
      "   :           :     +- *SortMergeJoin [__tmp-8883747752747123924#1520.src], [a#1523.id], Inner\n",
      "   :           :        :- *Sort [__tmp-8883747752747123924#1520.src ASC NULLS FIRST], false, 0\n",
      "   :           :        :  +- Exchange hashpartitioning(__tmp-8883747752747123924#1520.src, 200)\n",
      "   :           :        :     +- *Project [named_struct(src, src#7, dst, dst#8, relationship, relationship#9) AS __tmp-8883747752747123924#1520]\n",
      "   :           :        :        +- Scan ExistingRDD[src#7,dst#8,relationship#9]\n",
      "   :           :        +- *Sort [a#1523.id ASC NULLS FIRST], false, 0\n",
      "   :           :           +- Exchange hashpartitioning(a#1523.id, 200)\n",
      "   :           :              +- *Project [named_struct(id, id#0, name, name#1, age, age#2L) AS a#1523]\n",
      "   :           :                 +- Scan ExistingRDD[id#0,name#1,age#2L]\n",
      "   :           +- *Sort [b#1526.id ASC NULLS FIRST], false, 0\n",
      "   :              +- Exchange hashpartitioning(b#1526.id, 200)\n",
      "   :                 +- *Project [named_struct(id, id#0, name, name#1, age, age#2L) AS b#1526]\n",
      "   :                    +- *Filter (named_struct(id, id#0, name, name#1, age, age#2L).age > 36)\n",
      "   :                       +- Scan ExistingRDD[id#0,name#1,age#2L]\n",
      "   +- *Sort [__tmp4002724160828027973#1559.src ASC NULLS FIRST, __tmp4002724160828027973#1559.dst ASC NULLS FIRST], false, 0\n",
      "      +- Exchange hashpartitioning(__tmp4002724160828027973#1559.src, __tmp4002724160828027973#1559.dst, 200)\n",
      "         +- *Project [named_struct(src, src#7, dst, dst#8, relationship, relationship#9) AS __tmp4002724160828027973#1559]\n",
      "            +- Scan ExistingRDD[src#7,dst#8,relationship#9]\n"
     ]
    }
   ],
   "source": [
    "g.find(\"(a)-[]->(b); (b)-[]->(a)\").filter(\"b.age > 36\").explain()"
   ]
  },
  {
   "cell_type": "code",
   "execution_count": 21,
   "metadata": {
    "collapsed": false,
    "deletable": true,
    "editable": true
   },
   "outputs": [
    {
     "name": "stdout",
     "output_type": "stream",
     "text": [
      "+-------------+-------------+-------------+--------------+\n",
      "|            a|            b|            c|             d|\n",
      "+-------------+-------------+-------------+--------------+\n",
      "|[e,Esther,32]| [d,David,29]| [a,Alice,34]|    [b,Bob,36]|\n",
      "| [d,David,29]| [a,Alice,34]|[e,Esther,32]|  [f,Fanny,38]|\n",
      "| [d,David,29]| [a,Alice,34]|   [b,Bob,36]|[c,Charlie,37]|\n",
      "| [g,Gabby,60]|[e,Esther,32]| [d,David,29]|  [a,Alice,34]|\n",
      "+-------------+-------------+-------------+--------------+\n",
      "\n"
     ]
    }
   ],
   "source": [
    "# Find chains of 4 vertices such that at least 2 of the 3 edges are \"friend\" relationships.\n",
    "# The when function is similar to the CASE WHEN in SQL\n",
    "\n",
    "chain4 = g.find(\"(a)-[e1]->(b); (b)-[e2]->(c); (c)-[e3]->(d)\").where('a!=d')\n",
    "\n",
    "friendTo1 = lambda e: when(e['relationship'] == 'friend', 1).otherwise(0)\n",
    "\n",
    "chain4.select('*',friendTo1(chain4['e1']).alias('f1'), \\\n",
    "                  friendTo1(chain4['e2']).alias('f2'), \\\n",
    "                  friendTo1(chain4['e3']).alias('f3')) \\\n",
    "      .where('f1 + f2 + f3 >= 2').select('a', 'b', 'c', 'd').show()"
   ]
  },
  {
   "cell_type": "markdown",
   "metadata": {
    "deletable": true,
    "editable": true
   },
   "source": [
    "### Subgraphs"
   ]
  },
  {
   "cell_type": "code",
   "execution_count": 22,
   "metadata": {
    "collapsed": false,
    "deletable": true,
    "editable": true
   },
   "outputs": [
    {
     "name": "stdout",
     "output_type": "stream",
     "text": [
      "+---+-------+---+\n",
      "| id|   name|age|\n",
      "+---+-------+---+\n",
      "|  a|  Alice| 34|\n",
      "|  b|    Bob| 36|\n",
      "|  c|Charlie| 37|\n",
      "|  e| Esther| 32|\n",
      "|  f|  Fanny| 38|\n",
      "|  g|  Gabby| 60|\n",
      "+---+-------+---+\n",
      "\n",
      "+---+---+------------+\n",
      "|src|dst|relationship|\n",
      "+---+---+------------+\n",
      "|  a|  b|      friend|\n",
      "|  e|  d|      friend|\n",
      "|  d|  a|      friend|\n",
      "|  a|  e|      friend|\n",
      "+---+---+------------+\n",
      "\n"
     ]
    }
   ],
   "source": [
    "# Select subgraph of users older than 30, and edges of type \"friend\"\n",
    "v2 = g.vertices.filter(\"age > 30\")\n",
    "e2 = g.edges.filter(\"relationship = 'friend'\")\n",
    "g2 = GraphFrame(v2, e2)\n",
    "g2.vertices.show()\n",
    "g2.edges.show()\n",
    "\n",
    "# GraphFrames does not check if a vertex is isolated (which is OK)\n",
    "# or if an edge connects two existing vertices (which could cause bugs)"
   ]
  },
  {
   "cell_type": "code",
   "execution_count": 33,
   "metadata": {
    "collapsed": false,
    "deletable": true,
    "editable": true
   },
   "outputs": [
    {
     "name": "stdout",
     "output_type": "stream",
     "text": [
      "+---+--------+\n",
      "| id|inDegree|\n",
      "+---+--------+\n",
      "|  e|       1|\n",
      "|  d|       1|\n",
      "|  b|       1|\n",
      "|  a|       1|\n",
      "+---+--------+\n",
      "\n"
     ]
    }
   ],
   "source": [
    "g2.inDegrees.show()"
   ]
  },
  {
   "cell_type": "code",
   "execution_count": 34,
   "metadata": {
    "collapsed": false,
    "deletable": true,
    "editable": true
   },
   "outputs": [],
   "source": [
    "# Only keeping edges that connect existing vertices\n",
    "e3 = e2.join(v2, e2['src'] == v2['id'], 'left_semi') \\\n",
    "       .join(v2, e2['dst'] == v2['id'], 'left_semi') \n",
    "g3 = GraphFrame(v2, e3)"
   ]
  },
  {
   "cell_type": "code",
   "execution_count": 35,
   "metadata": {
    "collapsed": false,
    "deletable": true,
    "editable": true
   },
   "outputs": [
    {
     "name": "stdout",
     "output_type": "stream",
     "text": [
      "+---+---+------------+\n",
      "|src|dst|relationship|\n",
      "+---+---+------------+\n",
      "|  a|  b|      friend|\n",
      "|  a|  e|      friend|\n",
      "+---+---+------------+\n",
      "\n"
     ]
    }
   ],
   "source": [
    "g3.edges.show()"
   ]
  },
  {
   "cell_type": "code",
   "execution_count": 33,
   "metadata": {
    "collapsed": false,
    "deletable": true,
    "editable": true
   },
   "outputs": [
    {
     "name": "stdout",
     "output_type": "stream",
     "text": [
      "+---+---+------------+\n",
      "|src|dst|relationship|\n",
      "+---+---+------------+\n",
      "|  g|  e|      follow|\n",
      "|  f|  c|      follow|\n",
      "|  c|  b|      follow|\n",
      "+---+---+------------+\n",
      "\n"
     ]
    }
   ],
   "source": [
    "# Select subgraph based on edges of type \"follow\"\n",
    "# pointing from an older user to an youner user.\n",
    "e4 = g.find(\"(a)-[e]->(b)\")\\\n",
    "        .filter(\"e.relationship = 'follow'\")\\\n",
    "        .filter(\"a.age > b.age\") \\\n",
    "        .select(\"e.*\")\n",
    "e4.show()\n",
    "\n",
    "# Only keeping vertices that appear in the edges\n",
    "v4 = g.vertices.join(e4, g.vertices['id'] == e4['src'], 'leftsemi') \\\n",
    "      .union(g.vertices.join(e4, g.vertices['id'] == e4['dst'], 'leftsemi')) \\\n",
    "      .distinct()\n",
    "    \n",
    "# Construct the subgraph\n",
    "g4 = GraphFrame(v4, e4)\n",
    "g4.vertices.show()"
   ]
  },
  {
   "cell_type": "code",
   "execution_count": 37,
   "metadata": {
    "collapsed": false,
    "deletable": true,
    "editable": true,
    "scrolled": true
   },
   "outputs": [
    {
     "name": "stdout",
     "output_type": "stream",
     "text": [
      "+--------------+------------+--------------+\n",
      "|           src|        edge|           dst|\n",
      "+--------------+------------+--------------+\n",
      "|[c,Charlie,37]|[c,b,follow]|    [b,Bob,36]|\n",
      "|  [f,Fanny,38]|[f,c,follow]|[c,Charlie,37]|\n",
      "|  [g,Gabby,60]|[g,e,follow]| [e,Esther,32]|\n",
      "+--------------+------------+--------------+\n",
      "\n"
     ]
    }
   ],
   "source": [
    "g4.triplets.show()"
   ]
  },
  {
   "cell_type": "markdown",
   "metadata": {
    "deletable": true,
    "editable": true
   },
   "source": [
    "### BFS"
   ]
  },
  {
   "cell_type": "code",
   "execution_count": 38,
   "metadata": {
    "collapsed": true,
    "deletable": true,
    "editable": true
   },
   "outputs": [],
   "source": [
    "# Starting vertex is 'a'\n",
    "layers = [g.vertices.select('id').where(\"id = 'a'\")]\n",
    "visited =  layers[0]\n",
    "\n",
    "while layers[-1].count() > 0:\n",
    "    # From the current layer, get all the one-hop neighbors\n",
    "    d1 = layers[-1].join(g.edges, layers[-1]['id'] == g.edges['src'])\n",
    "    # Rename the column as 'id', and remove visited verices and duplicates\n",
    "    d2 = d1.select(d1['dst'].alias('id')) \\\n",
    "           .subtract(visited).distinct()\n",
    "    layers += [d2]\n",
    "    visited = visited.union(layers[-1])"
   ]
  },
  {
   "cell_type": "code",
   "execution_count": 39,
   "metadata": {
    "collapsed": false,
    "deletable": true,
    "editable": true
   },
   "outputs": [
    {
     "name": "stdout",
     "output_type": "stream",
     "text": [
      "+---+\n",
      "| id|\n",
      "+---+\n",
      "|  a|\n",
      "+---+\n",
      "\n"
     ]
    }
   ],
   "source": [
    "layers[0].show()"
   ]
  },
  {
   "cell_type": "code",
   "execution_count": 40,
   "metadata": {
    "collapsed": false,
    "deletable": true,
    "editable": true
   },
   "outputs": [
    {
     "name": "stdout",
     "output_type": "stream",
     "text": [
      "+---+\n",
      "| id|\n",
      "+---+\n",
      "|  e|\n",
      "|  b|\n",
      "+---+\n",
      "\n"
     ]
    }
   ],
   "source": [
    "layers[1].show()"
   ]
  },
  {
   "cell_type": "code",
   "execution_count": 68,
   "metadata": {
    "collapsed": false,
    "deletable": true,
    "editable": true
   },
   "outputs": [
    {
     "name": "stdout",
     "output_type": "stream",
     "text": [
      "+---+\n",
      "| id|\n",
      "+---+\n",
      "|  f|\n",
      "|  d|\n",
      "|  c|\n",
      "+---+\n",
      "\n"
     ]
    }
   ],
   "source": [
    "layers[2].show()"
   ]
  },
  {
   "cell_type": "code",
   "execution_count": 69,
   "metadata": {
    "collapsed": false,
    "deletable": true,
    "editable": true
   },
   "outputs": [
    {
     "name": "stdout",
     "output_type": "stream",
     "text": [
      "+---+\n",
      "| id|\n",
      "+---+\n",
      "+---+\n",
      "\n"
     ]
    }
   ],
   "source": [
    "layers[3].show()"
   ]
  },
  {
   "cell_type": "code",
   "execution_count": 50,
   "metadata": {
    "collapsed": false,
    "deletable": true,
    "editable": true
   },
   "outputs": [
    {
     "name": "stdout",
     "output_type": "stream",
     "text": [
      "+------------+------------+-------------+------------+--------------+\n",
      "|        from|          e0|           v1|          e1|            to|\n",
      "+------------+------------+-------------+------------+--------------+\n",
      "|[a,Alice,34]|[a,e,friend]|[e,Esther,32]|[e,f,follow]|  [f,Fanny,38]|\n",
      "|[a,Alice,34]|[a,b,friend]|   [b,Bob,36]|[b,c,follow]|[c,Charlie,37]|\n",
      "+------------+------------+-------------+------------+--------------+\n",
      "\n"
     ]
    }
   ],
   "source": [
    "# GraphFrames provides own BFS:\n",
    "\n",
    "paths = g.bfs(\"id = 'a'\", \"age > 36\")\n",
    "paths.show()"
   ]
  },
  {
   "cell_type": "markdown",
   "metadata": {
    "deletable": true,
    "editable": true
   },
   "source": [
    "### List Ranking"
   ]
  },
  {
   "cell_type": "code",
   "execution_count": 34,
   "metadata": {
    "collapsed": false,
    "deletable": true,
    "editable": true
   },
   "outputs": [
    {
     "name": "stdout",
     "output_type": "stream",
     "text": [
      "+---+---+\n",
      "| id|  d|\n",
      "+---+---+\n",
      "|  0|  1|\n",
      "|  1|  1|\n",
      "|  3|  1|\n",
      "|  4|  1|\n",
      "|  5|  0|\n",
      "|  6|  1|\n",
      "| -1|  0|\n",
      "+---+---+\n",
      "\n",
      "+---+---+\n",
      "|src|dst|\n",
      "+---+---+\n",
      "|  0|  5|\n",
      "|  1|  0|\n",
      "|  3|  4|\n",
      "|  4|  6|\n",
      "|  5| -1|\n",
      "|  6|  1|\n",
      "+---+---+\n",
      "\n"
     ]
    }
   ],
   "source": [
    "# -1 denotes end of list\n",
    "data = [(0, 5), (1, 0), (3, 4), (4, 6), (5, -1), (6,1)]\n",
    "e = spark.createDataFrame(data, ['src', 'dst'])\n",
    "v = e.select(col('src').alias('id'), when(e.dst == -1, 0).otherwise(1).alias('d'))\n",
    "v1 = spark.createDataFrame([(-1, 0)], ['id', 'd'])\n",
    "v = v.union(v1)\n",
    "v.show()\n",
    "e.show()"
   ]
  },
  {
   "cell_type": "code",
   "execution_count": 35,
   "metadata": {
    "collapsed": false,
    "deletable": true,
    "editable": true
   },
   "outputs": [
    {
     "name": "stdout",
     "output_type": "stream",
     "text": [
      "+---+---+\n",
      "| id|  d|\n",
      "+---+---+\n",
      "|  1|  2|\n",
      "|  3|  5|\n",
      "|  4|  4|\n",
      "|  6|  3|\n",
      "|  0|  1|\n",
      "|  5|  0|\n",
      "| -1|  0|\n",
      "+---+---+\n",
      "\n"
     ]
    }
   ],
   "source": [
    "while e.filter('dst != -1').count() > 0:\n",
    "    g = GraphFrame(v, e)\n",
    "    g.cache()\n",
    "    v = g.triplets.select(col('src.id').alias('id'), \n",
    "                          (col('src.d') + col('dst.d')).alias('d')) \\\n",
    "         .union(v1)\n",
    "    e = g.find('(a)-[]->(b); (b)-[]->(c)') \\\n",
    "         .select(col('a.id').alias('src'), col('c.id').alias('dst')) \\\n",
    "         .union(e.filter('dst = -1'))\n",
    "v.show()"
   ]
  }
 ],
 "metadata": {
  "kernelspec": {
   "display_name": "Apache Toree - PySpark",
   "language": "python",
   "name": "apache_toree_pyspark"
  },
  "language_info": {
   "file_extension": ".py",
   "name": "python",
   "pygments_lexer": "python",
   "version": "2.7.14\n"
  }
 },
 "nbformat": 4,
 "nbformat_minor": 1
}
