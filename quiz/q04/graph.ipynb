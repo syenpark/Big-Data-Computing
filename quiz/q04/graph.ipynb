{
 "cells": [
  {
   "cell_type": "code",
   "execution_count": 2,
   "metadata": {},
   "outputs": [],
   "source": [
    "#sc.addPyFile(\"../graphframes-0.5.0-spark2.1-s_2.11.jar\")"
   ]
  },
  {
   "cell_type": "code",
   "execution_count": 1,
   "metadata": {},
   "outputs": [],
   "source": [
    "from graphframes import *\n",
    "from pyspark.sql.functions import *"
   ]
  },
  {
   "cell_type": "code",
   "execution_count": 48,
   "metadata": {
    "scrolled": false
   },
   "outputs": [
    {
     "name": "stdout",
     "output_type": "stream",
     "text": [
      "+---+-------+---+\n",
      "| id|   name|age|\n",
      "+---+-------+---+\n",
      "|  a|  Alice| 34|\n",
      "|  b|    Bob| 36|\n",
      "|  c|Charlie| 37|\n",
      "|  d|  David| 29|\n",
      "|  e| Esther| 32|\n",
      "|  f|  Fanny| 38|\n",
      "|  g|  Gabby| 60|\n",
      "+---+-------+---+\n",
      "\n",
      "+---+---+------------+\n",
      "|src|dst|relationship|\n",
      "+---+---+------------+\n",
      "|  a|  b|      friend|\n",
      "|  b|  c|      follow|\n",
      "|  c|  b|      follow|\n",
      "|  f|  c|      follow|\n",
      "|  e|  f|      follow|\n",
      "|  e|  d|      friend|\n",
      "|  d|  a|      friend|\n",
      "|  a|  e|      friend|\n",
      "|  g|  e|      follow|\n",
      "+---+---+------------+\n",
      "\n"
     ]
    }
   ],
   "source": [
    "# Vertics DataFrame\n",
    "v = spark.createDataFrame([\n",
    "  (\"a\", \"Alice\", 34),\n",
    "  (\"b\", \"Bob\", 36),\n",
    "  (\"c\", \"Charlie\", 37),\n",
    "  (\"d\", \"David\", 29),\n",
    "  (\"e\", \"Esther\", 32),\n",
    "  (\"f\", \"Fanny\", 38),\n",
    "  (\"g\", \"Gabby\", 60)\n",
    "], [\"id\", \"name\", \"age\"])\n",
    "\n",
    "# Edges DataFrame\n",
    "e = spark.createDataFrame([\n",
    "  (\"a\", \"b\", \"friend\"),\n",
    "  (\"b\", \"c\", \"follow\"),\n",
    "  (\"c\", \"b\", \"follow\"),\n",
    "  (\"f\", \"c\", \"follow\"),\n",
    "  (\"e\", \"f\", \"follow\"),\n",
    "  (\"e\", \"d\", \"friend\"),\n",
    "  (\"d\", \"a\", \"friend\"),\n",
    "  (\"a\", \"e\", \"friend\"),\n",
    "  (\"g\", \"e\", \"follow\")\n",
    "], [\"src\", \"dst\", \"relationship\"])\n",
    "\n",
    "# Create a GraphFrame\n",
    "g = GraphFrame(v, e)\n",
    "\n",
    "g.vertices.show()\n",
    "g.edges.show()"
   ]
  },
  {
   "cell_type": "code",
   "execution_count": 4,
   "metadata": {},
   "outputs": [
    {
     "name": "stdout",
     "output_type": "stream",
     "text": [
      "+---+---+------------+\n",
      "|src|dst|relationship|\n",
      "+---+---+------------+\n",
      "|  a|  b|      friend|\n",
      "|  a|  e|      friend|\n",
      "+---+---+------------+\n",
      "\n"
     ]
    }
   ],
   "source": [
    "# g.vertices and g.edges are just DataFrames\n",
    "# You can use any DataFrame API on them\n",
    "\n",
    "g.edges.filter(\"src = 'a'\").show()"
   ]
  },
  {
   "cell_type": "code",
   "execution_count": 5,
   "metadata": {},
   "outputs": [
    {
     "data": {
      "text/plain": [
       "2"
      ]
     },
     "execution_count": 5,
     "metadata": {},
     "output_type": "execute_result"
    }
   ],
   "source": [
    "g.edges.filter(\"src = 'a'\").count()"
   ]
  },
  {
   "cell_type": "code",
   "execution_count": 7,
   "metadata": {},
   "outputs": [
    {
     "name": "stdout",
     "output_type": "stream",
     "text": [
      "2\n"
     ]
    }
   ],
   "source": [
    "# Count the number of followers of c.\n",
    "# This queries the edge DataFrame.\n",
    "print(g.edges.filter(\"relationship = 'follow' and dst = 'c'\").count())"
   ]
  },
  {
   "cell_type": "code",
   "execution_count": 8,
   "metadata": {},
   "outputs": [
    {
     "name": "stdout",
     "output_type": "stream",
     "text": [
      "+---+---------+\n",
      "| id|outDegree|\n",
      "+---+---------+\n",
      "|  g|        1|\n",
      "|  f|        1|\n",
      "|  e|        2|\n",
      "|  d|        1|\n",
      "|  c|        1|\n",
      "|  b|        1|\n",
      "|  a|        2|\n",
      "+---+---------+\n",
      "\n"
     ]
    }
   ],
   "source": [
    "# A GraphFrame has additional attributes\n",
    "\n",
    "g.outDegrees.show()"
   ]
  },
  {
   "cell_type": "code",
   "execution_count": 9,
   "metadata": {},
   "outputs": [
    {
     "name": "stdout",
     "output_type": "stream",
     "text": [
      "+---+--------+\n",
      "| id|inDegree|\n",
      "+---+--------+\n",
      "|  f|       1|\n",
      "|  e|       2|\n",
      "|  d|       1|\n",
      "|  c|       2|\n",
      "|  b|       2|\n",
      "|  a|       1|\n",
      "+---+--------+\n",
      "\n"
     ]
    }
   ],
   "source": [
    "g.inDegrees.show()"
   ]
  },
  {
   "cell_type": "code",
   "execution_count": 10,
   "metadata": {},
   "outputs": [
    {
     "name": "stdout",
     "output_type": "stream",
     "text": [
      "== Physical Plan ==\n",
      "*(2) HashAggregate(keys=[dst#10], functions=[count(1)])\n",
      "+- Exchange hashpartitioning(dst#10, 200)\n",
      "   +- *(1) HashAggregate(keys=[dst#10], functions=[partial_count(1)])\n",
      "      +- *(1) Project [dst#10]\n",
      "         +- Scan ExistingRDD[src#9,dst#10,relationship#11]\n"
     ]
    }
   ],
   "source": [
    "g.inDegrees.explain()"
   ]
  },
  {
   "cell_type": "code",
   "execution_count": 11,
   "metadata": {},
   "outputs": [
    {
     "name": "stdout",
     "output_type": "stream",
     "text": [
      "+---+--------+\n",
      "| id|inDegree|\n",
      "+---+--------+\n",
      "|  f|       1|\n",
      "|  e|       2|\n",
      "|  d|       1|\n",
      "|  c|       2|\n",
      "|  b|       2|\n",
      "|  a|       1|\n",
      "+---+--------+\n",
      "\n"
     ]
    }
   ],
   "source": [
    "myInDegrees = g.edges.groupBy('dst').count()\\\n",
    "               .withColumnRenamed('dst', 'id').withColumnRenamed('count', 'inDegree')\n",
    "myInDegrees.show()"
   ]
  },
  {
   "cell_type": "code",
   "execution_count": 12,
   "metadata": {},
   "outputs": [
    {
     "name": "stdout",
     "output_type": "stream",
     "text": [
      "== Physical Plan ==\n",
      "*(2) HashAggregate(keys=[dst#10], functions=[count(1)])\n",
      "+- Exchange hashpartitioning(dst#10, 200)\n",
      "   +- *(1) HashAggregate(keys=[dst#10], functions=[partial_count(1)])\n",
      "      +- *(1) Project [dst#10]\n",
      "         +- Scan ExistingRDD[src#9,dst#10,relationship#11]\n"
     ]
    }
   ],
   "source": [
    "myInDegrees.explain()"
   ]
  },
  {
   "cell_type": "code",
   "execution_count": 14,
   "metadata": {},
   "outputs": [
    {
     "name": "stdout",
     "output_type": "stream",
     "text": [
      "Serialized 1x Replicated\n"
     ]
    }
   ],
   "source": [
    "print(g.inDegrees.storageLevel)"
   ]
  },
  {
   "cell_type": "code",
   "execution_count": 15,
   "metadata": {},
   "outputs": [
    {
     "data": {
      "text/plain": [
       "DataFrame[id: string, inDegree: int]"
      ]
     },
     "execution_count": 15,
     "metadata": {},
     "output_type": "execute_result"
    }
   ],
   "source": [
    "g.inDegrees.cache()"
   ]
  },
  {
   "cell_type": "code",
   "execution_count": 17,
   "metadata": {},
   "outputs": [
    {
     "name": "stdout",
     "output_type": "stream",
     "text": [
      "Disk Memory Deserialized 1x Replicated\n"
     ]
    }
   ],
   "source": [
    "print(g.inDegrees.storageLevel)"
   ]
  },
  {
   "cell_type": "code",
   "execution_count": 18,
   "metadata": {},
   "outputs": [
    {
     "name": "stdout",
     "output_type": "stream",
     "text": [
      "Serialized 1x Replicated\n"
     ]
    }
   ],
   "source": [
    "print(g.vertices.storageLevel)"
   ]
  },
  {
   "cell_type": "code",
   "execution_count": 19,
   "metadata": {},
   "outputs": [
    {
     "data": {
      "text/plain": [
       "GraphFrame(v:[id: string, name: string ... 1 more field], e:[src: string, dst: string ... 1 more field])"
      ]
     },
     "execution_count": 19,
     "metadata": {},
     "output_type": "execute_result"
    }
   ],
   "source": [
    "g.cache()"
   ]
  },
  {
   "cell_type": "code",
   "execution_count": 20,
   "metadata": {},
   "outputs": [
    {
     "name": "stdout",
     "output_type": "stream",
     "text": [
      "Disk Memory Deserialized 1x Replicated\n",
      "Disk Memory Deserialized 1x Replicated\n"
     ]
    }
   ],
   "source": [
    "print(g.vertices.storageLevel)\n",
    "print(g.edges.storageLevel)"
   ]
  },
  {
   "cell_type": "code",
   "execution_count": 21,
   "metadata": {},
   "outputs": [
    {
     "name": "stdout",
     "output_type": "stream",
     "text": [
      "+----------------+--------------+----------------+\n",
      "|             src|          edge|             dst|\n",
      "+----------------+--------------+----------------+\n",
      "| [e, Esther, 32]|[e, f, follow]|  [f, Fanny, 38]|\n",
      "|  [g, Gabby, 60]|[g, e, follow]| [e, Esther, 32]|\n",
      "|  [a, Alice, 34]|[a, e, friend]| [e, Esther, 32]|\n",
      "| [e, Esther, 32]|[e, d, friend]|  [d, David, 29]|\n",
      "|  [f, Fanny, 38]|[f, c, follow]|[c, Charlie, 37]|\n",
      "|    [b, Bob, 36]|[b, c, follow]|[c, Charlie, 37]|\n",
      "|[c, Charlie, 37]|[c, b, follow]|    [b, Bob, 36]|\n",
      "|  [a, Alice, 34]|[a, b, friend]|    [b, Bob, 36]|\n",
      "|  [d, David, 29]|[d, a, friend]|  [a, Alice, 34]|\n",
      "+----------------+--------------+----------------+\n",
      "\n"
     ]
    }
   ],
   "source": [
    "# A triplet view of the graph\n",
    "\n",
    "g.triplets.show()"
   ]
  },
  {
   "cell_type": "markdown",
   "metadata": {},
   "source": [
    "### Motif Finding"
   ]
  },
  {
   "cell_type": "code",
   "execution_count": 22,
   "metadata": {},
   "outputs": [
    {
     "name": "stdout",
     "output_type": "stream",
     "text": [
      "+----------------+----------------+\n",
      "|               a|               b|\n",
      "+----------------+----------------+\n",
      "|    [b, Bob, 36]|[c, Charlie, 37]|\n",
      "|[c, Charlie, 37]|    [b, Bob, 36]|\n",
      "+----------------+----------------+\n",
      "\n"
     ]
    }
   ],
   "source": [
    "# Search for pairs of vertices with edges in both directions between them.\n",
    "# this part is different from the original result on my system\n",
    "motifs = g.find(\"(a)-[]->(b); (b)-[]->(a)\")#.filter('a.id < b.id')\n",
    "motifs.show()"
   ]
  },
  {
   "cell_type": "code",
   "execution_count": 23,
   "metadata": {},
   "outputs": [
    {
     "name": "stdout",
     "output_type": "stream",
     "text": [
      "+--------------+---------------+--------------+\n",
      "|             a|              b|             c|\n",
      "+--------------+---------------+--------------+\n",
      "|[a, Alice, 34]|[e, Esther, 32]|[d, David, 29]|\n",
      "+--------------+---------------+--------------+\n",
      "\n"
     ]
    }
   ],
   "source": [
    "# Find triangles\n",
    "\n",
    "triangles = g.find(\"(a)-[]->(b); (b)-[]->(c); (c)-[]->(a)\")\n",
    "triangles = triangles.filter(\"a.id < b.id AND a.id < c.id\")\n",
    "triangles.show()"
   ]
  },
  {
   "cell_type": "code",
   "execution_count": 24,
   "metadata": {},
   "outputs": [
    {
     "name": "stdout",
     "output_type": "stream",
     "text": [
      "== Physical Plan ==\n",
      "*(6) Project [a#374, b#376, c#401]\n",
      "+- *(6) BroadcastHashJoin [c#401.id, a#374.id], [__tmp-6526019406657860729#431.src, __tmp-6526019406657860729#431.dst], Inner, BuildRight\n",
      "   :- *(6) Project [a#374, b#376, c#401]\n",
      "   :  +- *(6) BroadcastHashJoin [__tmp-430217833014886237#399.dst], [c#401.id], Inner, BuildRight, (a#374.id < c#401.id)\n",
      "   :     :- *(6) BroadcastHashJoin [b#376.id], [__tmp-430217833014886237#399.src], Inner, BuildRight\n",
      "   :     :  :- *(6) Project [a#374, b#376]\n",
      "   :     :  :  +- *(6) BroadcastHashJoin [__tmp-1043886091038848698#372.dst], [b#376.id], Inner, BuildRight, (a#374.id < b#376.id)\n",
      "   :     :  :     :- *(6) BroadcastHashJoin [__tmp-1043886091038848698#372.src], [a#374.id], Inner, BuildRight\n",
      "   :     :  :     :  :- *(6) Project [named_struct(src, src#9, dst, dst#10, relationship, relationship#11) AS __tmp-1043886091038848698#372]\n",
      "   :     :  :     :  :  +- InMemoryTableScan [dst#10, relationship#11, src#9]\n",
      "   :     :  :     :  :        +- InMemoryRelation [src#9, dst#10, relationship#11], true, 10000, StorageLevel(disk, memory, deserialized, 1 replicas)\n",
      "   :     :  :     :  :              +- Scan ExistingRDD[src#9,dst#10,relationship#11]\n",
      "   :     :  :     :  +- BroadcastExchange HashedRelationBroadcastMode(List(input[0, struct<id:string,name:string,age:bigint>, false].id))\n",
      "   :     :  :     :     +- *(1) Project [named_struct(id, id#3, name, name#4, age, age#5L) AS a#374]\n",
      "   :     :  :     :        +- InMemoryTableScan [age#5L, id#3, name#4]\n",
      "   :     :  :     :              +- InMemoryRelation [id#3, name#4, age#5L], true, 10000, StorageLevel(disk, memory, deserialized, 1 replicas)\n",
      "   :     :  :     :                    +- Scan ExistingRDD[id#3,name#4,age#5L]\n",
      "   :     :  :     +- BroadcastExchange HashedRelationBroadcastMode(List(input[0, struct<id:string,name:string,age:bigint>, false].id))\n",
      "   :     :  :        +- *(2) Project [named_struct(id, id#3, name, name#4, age, age#5L) AS b#376]\n",
      "   :     :  :           +- InMemoryTableScan [age#5L, id#3, name#4]\n",
      "   :     :  :                 +- InMemoryRelation [id#3, name#4, age#5L], true, 10000, StorageLevel(disk, memory, deserialized, 1 replicas)\n",
      "   :     :  :                       +- Scan ExistingRDD[id#3,name#4,age#5L]\n",
      "   :     :  +- BroadcastExchange HashedRelationBroadcastMode(List(input[0, struct<src:string,dst:string,relationship:string>, false].src))\n",
      "   :     :     +- *(3) Project [named_struct(src, src#9, dst, dst#10, relationship, relationship#11) AS __tmp-430217833014886237#399]\n",
      "   :     :        +- InMemoryTableScan [dst#10, relationship#11, src#9]\n",
      "   :     :              +- InMemoryRelation [src#9, dst#10, relationship#11], true, 10000, StorageLevel(disk, memory, deserialized, 1 replicas)\n",
      "   :     :                    +- Scan ExistingRDD[src#9,dst#10,relationship#11]\n",
      "   :     +- BroadcastExchange HashedRelationBroadcastMode(List(input[0, struct<id:string,name:string,age:bigint>, false].id))\n",
      "   :        +- *(4) Project [named_struct(id, id#3, name, name#4, age, age#5L) AS c#401]\n",
      "   :           +- InMemoryTableScan [age#5L, id#3, name#4]\n",
      "   :                 +- InMemoryRelation [id#3, name#4, age#5L], true, 10000, StorageLevel(disk, memory, deserialized, 1 replicas)\n",
      "   :                       +- Scan ExistingRDD[id#3,name#4,age#5L]\n",
      "   +- BroadcastExchange HashedRelationBroadcastMode(List(input[0, struct<src:string,dst:string,relationship:string>, false].src, input[0, struct<src:string,dst:string,relationship:string>, false].dst))\n",
      "      +- *(5) Project [named_struct(src, src#9, dst, dst#10, relationship, relationship#11) AS __tmp-6526019406657860729#431]\n",
      "         +- InMemoryTableScan [dst#10, relationship#11, src#9]\n",
      "               +- InMemoryRelation [src#9, dst#10, relationship#11], true, 10000, StorageLevel(disk, memory, deserialized, 1 replicas)\n",
      "                     +- Scan ExistingRDD[src#9,dst#10,relationship#11]\n"
     ]
    }
   ],
   "source": [
    "triangles.explain()"
   ]
  },
  {
   "cell_type": "markdown",
   "metadata": {},
   "source": [
    "# Q1"
   ]
  },
  {
   "cell_type": "code",
   "execution_count": 60,
   "metadata": {},
   "outputs": [
    {
     "name": "stdout",
     "output_type": "stream",
     "text": [
      "+----------------+\n",
      "|               c|\n",
      "+----------------+\n",
      "|  [f, Fanny, 38]|\n",
      "|  [d, David, 29]|\n",
      "|[c, Charlie, 37]|\n",
      "+----------------+\n",
      "\n"
     ]
    }
   ],
   "source": [
    "# Q1\n",
    "two_hops = g.find(\"(a)-[]->(b); (b)-[]->(c)\")\n",
    "two_hops = two_hops.filter(\"a.id < b.id AND a.id < c.id\")\n",
    "two_hops = two_hops.select('c')\n",
    "two_hops.show()"
   ]
  },
  {
   "cell_type": "markdown",
   "metadata": {},
   "source": [
    "# Q2"
   ]
  },
  {
   "cell_type": "code",
   "execution_count": 65,
   "metadata": {},
   "outputs": [
    {
     "name": "stdout",
     "output_type": "stream",
     "text": [
      "+----------------+\n",
      "|               c|\n",
      "+----------------+\n",
      "|  [f, Fanny, 38]|\n",
      "|[c, Charlie, 37]|\n",
      "+----------------+\n",
      "\n"
     ]
    }
   ],
   "source": [
    "# Q2\n",
    "two_hops_exclude = g.find(\"(a)-[]->(b); (b)-[]->(c); !(c)-[]->(a)\")\n",
    "two_hops_exclude = two_hops_exclude.filter(\"a.id < b.id AND a.id < c.id\")\n",
    "two_hops_exclude = two_hops_exclude.select('c')\n",
    "two_hops_exclude.show()"
   ]
  },
  {
   "cell_type": "markdown",
   "metadata": {},
   "source": [
    "# Q3"
   ]
  },
  {
   "cell_type": "code",
   "execution_count": 92,
   "metadata": {},
   "outputs": [
    {
     "name": "stdout",
     "output_type": "stream",
     "text": [
      "+---+-----+---+\n",
      "| id| name|age|\n",
      "+---+-----+---+\n",
      "|  f|Fanny| 38|\n",
      "|  b|  Bob| 36|\n",
      "+---+-----+---+\n",
      "\n"
     ]
    }
   ],
   "source": [
    "# Select subgraph based on edges of type \"follow\"\n",
    "edges_follow_c = g.find(\"()-[e]->(c)\")\\\n",
    "        .filter(\"e.relationship = 'follow' and e.dst = 'c'\")\\\n",
    "        .select(\"e.*\")\n",
    "#edges_follow_c.show()\n",
    "\n",
    "# Only keeping vertices that appear in the edges\n",
    "vertices_follow_c = g.vertices.join(edges_follow_c, g.vertices['id'] == edges_follow_c['src'], 'leftsemi').distinct()\n",
    " \n",
    "vertices_follow_c.show()"
   ]
  },
  {
   "cell_type": "code",
   "execution_count": 25,
   "metadata": {},
   "outputs": [
    {
     "name": "stdout",
     "output_type": "stream",
     "text": [
      "+---------------+----------------+\n",
      "|              a|               b|\n",
      "+---------------+----------------+\n",
      "| [a, Alice, 34]| [e, Esther, 32]|\n",
      "|[e, Esther, 32]|  [d, David, 29]|\n",
      "| [a, Alice, 34]|    [b, Bob, 36]|\n",
      "| [g, Gabby, 60]| [e, Esther, 32]|\n",
      "|[e, Esther, 32]|  [f, Fanny, 38]|\n",
      "| [f, Fanny, 38]|[c, Charlie, 37]|\n",
      "| [d, David, 29]|  [a, Alice, 34]|\n",
      "+---------------+----------------+\n",
      "\n"
     ]
    }
   ],
   "source": [
    "# Negation\n",
    "oneway = g.find(\"(a)-[]->(b); !(b)-[]->(a)\")\n",
    "oneway.show()"
   ]
  },
  {
   "cell_type": "code",
   "execution_count": 26,
   "metadata": {},
   "outputs": [
    {
     "name": "stdout",
     "output_type": "stream",
     "text": [
      "+--------------+\n",
      "|             a|\n",
      "+--------------+\n",
      "|[g, Gabby, 60]|\n",
      "+--------------+\n",
      "\n"
     ]
    }
   ],
   "source": [
    "# Find vertices without incoming edges. This is wrong:\n",
    "g.find('!()-[]->(a)').show()\n",
    "# Because negation is implemented as a subtraction"
   ]
  },
  {
   "cell_type": "code",
   "execution_count": 27,
   "metadata": {},
   "outputs": [
    {
     "name": "stdout",
     "output_type": "stream",
     "text": [
      "+---+----+---+--------+\n",
      "| id|name|age|inDegree|\n",
      "+---+----+---+--------+\n",
      "+---+----+---+--------+\n",
      "\n"
     ]
    }
   ],
   "source": [
    "# Still doesn't work:\n",
    "g.vertices.join(g.inDegrees, 'id').filter('inDegree=0').show()"
   ]
  },
  {
   "cell_type": "code",
   "execution_count": 28,
   "metadata": {
    "scrolled": false
   },
   "outputs": [
    {
     "name": "stdout",
     "output_type": "stream",
     "text": [
      "+---+--------+\n",
      "| id|inDegree|\n",
      "+---+--------+\n",
      "|  f|       1|\n",
      "|  e|       2|\n",
      "|  d|       1|\n",
      "|  c|       2|\n",
      "|  b|       2|\n",
      "|  a|       1|\n",
      "+---+--------+\n",
      "\n"
     ]
    }
   ],
   "source": [
    "# Why? Because inDegree is computed by a groupBy followed by a count\n",
    "g.inDegrees.show()"
   ]
  },
  {
   "cell_type": "code",
   "execution_count": 29,
   "metadata": {},
   "outputs": [
    {
     "name": "stdout",
     "output_type": "stream",
     "text": [
      "+---+-----+---+--------+\n",
      "| id| name|age|inDegree|\n",
      "+---+-----+---+--------+\n",
      "|  g|Gabby| 60|    null|\n",
      "+---+-----+---+--------+\n",
      "\n"
     ]
    }
   ],
   "source": [
    "# Correct way:\n",
    "g.vertices.join(g.inDegrees, 'id', 'left_outer').filter('inDegree is null').show()"
   ]
  },
  {
   "cell_type": "code",
   "execution_count": 30,
   "metadata": {},
   "outputs": [
    {
     "name": "stdout",
     "output_type": "stream",
     "text": [
      "+---+-----+---+\n",
      "| id| name|age|\n",
      "+---+-----+---+\n",
      "|  g|Gabby| 60|\n",
      "+---+-----+---+\n",
      "\n"
     ]
    }
   ],
   "source": [
    "# Or use subtract:\n",
    "g.vertices.select('id').subtract(g.inDegrees.select('id')).join(g.vertices,'id').show()"
   ]
  },
  {
   "cell_type": "code",
   "execution_count": 31,
   "metadata": {},
   "outputs": [
    {
     "name": "stdout",
     "output_type": "stream",
     "text": [
      "+------------+----------------+\n",
      "|           a|               b|\n",
      "+------------+----------------+\n",
      "|[b, Bob, 36]|[c, Charlie, 37]|\n",
      "+------------+----------------+\n",
      "\n"
     ]
    }
   ],
   "source": [
    "# More meaningful queries can be expressed by applying filters.\n",
    "# Question: where is this filter applied?\n",
    "\n",
    "g.find(\"(a)-[]->(b); (b)-[]->(a)\").filter(\"b.age > 36\").show()"
   ]
  },
  {
   "cell_type": "code",
   "execution_count": 32,
   "metadata": {},
   "outputs": [
    {
     "name": "stdout",
     "output_type": "stream",
     "text": [
      "== Physical Plan ==\n",
      "*(4) Project [a#1340, b#1342]\n",
      "+- *(4) BroadcastHashJoin [b#1342.id, a#1340.id], [__tmp2506060614762666678#1365.src, __tmp2506060614762666678#1365.dst], Inner, BuildRight\n",
      "   :- *(4) Project [a#1340, b#1342]\n",
      "   :  +- *(4) BroadcastHashJoin [__tmp-3851898762290097694#1338.dst], [b#1342.id], Inner, BuildRight\n",
      "   :     :- *(4) BroadcastHashJoin [__tmp-3851898762290097694#1338.src], [a#1340.id], Inner, BuildRight\n",
      "   :     :  :- *(4) Project [named_struct(src, src#9, dst, dst#10, relationship, relationship#11) AS __tmp-3851898762290097694#1338]\n",
      "   :     :  :  +- InMemoryTableScan [dst#10, relationship#11, src#9]\n",
      "   :     :  :        +- InMemoryRelation [src#9, dst#10, relationship#11], true, 10000, StorageLevel(disk, memory, deserialized, 1 replicas)\n",
      "   :     :  :              +- Scan ExistingRDD[src#9,dst#10,relationship#11]\n",
      "   :     :  +- BroadcastExchange HashedRelationBroadcastMode(List(input[0, struct<id:string,name:string,age:bigint>, false].id))\n",
      "   :     :     +- *(1) Project [named_struct(id, id#3, name, name#4, age, age#5L) AS a#1340]\n",
      "   :     :        +- InMemoryTableScan [age#5L, id#3, name#4]\n",
      "   :     :              +- InMemoryRelation [id#3, name#4, age#5L], true, 10000, StorageLevel(disk, memory, deserialized, 1 replicas)\n",
      "   :     :                    +- Scan ExistingRDD[id#3,name#4,age#5L]\n",
      "   :     +- BroadcastExchange HashedRelationBroadcastMode(List(input[0, struct<id:string,name:string,age:bigint>, false].id))\n",
      "   :        +- *(2) Project [named_struct(id, id#3, name, name#4, age, age#5L) AS b#1342]\n",
      "   :           +- *(2) Filter (named_struct(id, id#3, name, name#4, age, age#5L).age > 36)\n",
      "   :              +- InMemoryTableScan [age#5L, id#3, name#4], [(named_struct(id, id#3, name, name#4, age, age#5L).age > 36)]\n",
      "   :                    +- InMemoryRelation [id#3, name#4, age#5L], true, 10000, StorageLevel(disk, memory, deserialized, 1 replicas)\n",
      "   :                          +- Scan ExistingRDD[id#3,name#4,age#5L]\n",
      "   +- BroadcastExchange HashedRelationBroadcastMode(List(input[0, struct<src:string,dst:string,relationship:string>, false].src, input[0, struct<src:string,dst:string,relationship:string>, false].dst))\n",
      "      +- *(3) Project [named_struct(src, src#9, dst, dst#10, relationship, relationship#11) AS __tmp2506060614762666678#1365]\n",
      "         +- InMemoryTableScan [dst#10, relationship#11, src#9]\n",
      "               +- InMemoryRelation [src#9, dst#10, relationship#11], true, 10000, StorageLevel(disk, memory, deserialized, 1 replicas)\n",
      "                     +- Scan ExistingRDD[src#9,dst#10,relationship#11]\n"
     ]
    }
   ],
   "source": [
    "g.find(\"(a)-[]->(b); (b)-[]->(a)\").filter(\"b.age > 36\").explain()"
   ]
  },
  {
   "cell_type": "code",
   "execution_count": 33,
   "metadata": {},
   "outputs": [
    {
     "name": "stdout",
     "output_type": "stream",
     "text": [
      "+---------------+---------------+---------------+----------------+\n",
      "|              a|              b|              c|               d|\n",
      "+---------------+---------------+---------------+----------------+\n",
      "|[e, Esther, 32]| [d, David, 29]| [a, Alice, 34]|    [b, Bob, 36]|\n",
      "| [d, David, 29]| [a, Alice, 34]|[e, Esther, 32]|  [f, Fanny, 38]|\n",
      "| [d, David, 29]| [a, Alice, 34]|   [b, Bob, 36]|[c, Charlie, 37]|\n",
      "| [g, Gabby, 60]|[e, Esther, 32]| [d, David, 29]|  [a, Alice, 34]|\n",
      "+---------------+---------------+---------------+----------------+\n",
      "\n"
     ]
    }
   ],
   "source": [
    "# Find chains of 4 vertices such that at least 2 of the 3 edges are \"friend\" relationships.\n",
    "# The when function is similar to the CASE WHEN in SQL\n",
    "\n",
    "chain4 = g.find(\"(a)-[e1]->(b); (b)-[e2]->(c); (c)-[e3]->(d)\").where('a!=d')\n",
    "\n",
    "friendTo1 = lambda e: when(e['relationship'] == 'friend', 1).otherwise(0)\n",
    "\n",
    "chain4.select('*',friendTo1(chain4['e1']).alias('f1'), \\\n",
    "                  friendTo1(chain4['e2']).alias('f2'), \\\n",
    "                  friendTo1(chain4['e3']).alias('f3')) \\\n",
    "      .where('f1 + f2 + f3 >= 2').select('a', 'b', 'c', 'd').show()"
   ]
  },
  {
   "cell_type": "markdown",
   "metadata": {},
   "source": [
    "### Subgraphs"
   ]
  },
  {
   "cell_type": "code",
   "execution_count": 34,
   "metadata": {},
   "outputs": [
    {
     "name": "stdout",
     "output_type": "stream",
     "text": [
      "+---+-------+---+\n",
      "| id|   name|age|\n",
      "+---+-------+---+\n",
      "|  a|  Alice| 34|\n",
      "|  b|    Bob| 36|\n",
      "|  c|Charlie| 37|\n",
      "|  e| Esther| 32|\n",
      "|  f|  Fanny| 38|\n",
      "|  g|  Gabby| 60|\n",
      "+---+-------+---+\n",
      "\n",
      "+---+---+------------+\n",
      "|src|dst|relationship|\n",
      "+---+---+------------+\n",
      "|  a|  b|      friend|\n",
      "|  e|  d|      friend|\n",
      "|  d|  a|      friend|\n",
      "|  a|  e|      friend|\n",
      "+---+---+------------+\n",
      "\n"
     ]
    }
   ],
   "source": [
    "# Select subgraph of users older than 30, and edges of type \"friend\"\n",
    "v2 = g.vertices.filter(\"age > 30\")\n",
    "e2 = g.edges.filter(\"relationship = 'friend'\")\n",
    "g2 = GraphFrame(v2, e2)\n",
    "g2.vertices.show()\n",
    "g2.edges.show()\n",
    "\n",
    "# GraphFrames does not check if a vertex is isolated (which is OK)\n",
    "# or if an edge connects two existing vertices (which could cause bugs)"
   ]
  },
  {
   "cell_type": "code",
   "execution_count": 35,
   "metadata": {},
   "outputs": [
    {
     "name": "stdout",
     "output_type": "stream",
     "text": [
      "+---+--------+\n",
      "| id|inDegree|\n",
      "+---+--------+\n",
      "|  e|       1|\n",
      "|  d|       1|\n",
      "|  b|       1|\n",
      "|  a|       1|\n",
      "+---+--------+\n",
      "\n"
     ]
    }
   ],
   "source": [
    "g2.inDegrees.show()"
   ]
  },
  {
   "cell_type": "code",
   "execution_count": 36,
   "metadata": {},
   "outputs": [],
   "source": [
    "# Only keeping edges that connect existing vertices\n",
    "e3 = e2.join(v2, e2['src'] == v2['id'], 'left_semi') \\\n",
    "       .join(v2, e2['dst'] == v2['id'], 'left_semi') \n",
    "g3 = GraphFrame(v2, e3)"
   ]
  },
  {
   "cell_type": "code",
   "execution_count": 37,
   "metadata": {},
   "outputs": [
    {
     "name": "stdout",
     "output_type": "stream",
     "text": [
      "+---+---+------------+\n",
      "|src|dst|relationship|\n",
      "+---+---+------------+\n",
      "|  a|  b|      friend|\n",
      "|  a|  e|      friend|\n",
      "+---+---+------------+\n",
      "\n"
     ]
    }
   ],
   "source": [
    "g3.edges.show()"
   ]
  },
  {
   "cell_type": "code",
   "execution_count": 38,
   "metadata": {},
   "outputs": [
    {
     "name": "stdout",
     "output_type": "stream",
     "text": [
      "+---+---+------------+\n",
      "|src|dst|relationship|\n",
      "+---+---+------------+\n",
      "|  c|  b|      follow|\n",
      "|  f|  c|      follow|\n",
      "|  g|  e|      follow|\n",
      "+---+---+------------+\n",
      "\n",
      "+---+-------+---+\n",
      "| id|   name|age|\n",
      "+---+-------+---+\n",
      "|  g|  Gabby| 60|\n",
      "|  e| Esther| 32|\n",
      "|  b|    Bob| 36|\n",
      "|  f|  Fanny| 38|\n",
      "|  c|Charlie| 37|\n",
      "+---+-------+---+\n",
      "\n"
     ]
    }
   ],
   "source": [
    "# Select subgraph based on edges of type \"follow\"\n",
    "# pointing from an older user to an youner user.\n",
    "e4 = g.find(\"(a)-[e]->(b)\")\\\n",
    "        .filter(\"e.relationship = 'follow'\")\\\n",
    "        .filter(\"a.age > b.age\") \\\n",
    "        .select(\"e.*\")\n",
    "e4.show()\n",
    "\n",
    "# Only keeping vertices that appear in the edges\n",
    "v4 = g.vertices.join(e4, g.vertices['id'] == e4['src'], 'leftsemi') \\\n",
    "      .union(g.vertices.join(e4, g.vertices['id'] == e4['dst'], 'leftsemi')) \\\n",
    "      .distinct()\n",
    "    \n",
    "# Construct the subgraph\n",
    "g4 = GraphFrame(v4, e4)\n",
    "g4.vertices.show()"
   ]
  },
  {
   "cell_type": "code",
   "execution_count": 39,
   "metadata": {
    "scrolled": true
   },
   "outputs": [
    {
     "name": "stdout",
     "output_type": "stream",
     "text": [
      "+----------------+--------------+----------------+\n",
      "|             src|          edge|             dst|\n",
      "+----------------+--------------+----------------+\n",
      "|[c, Charlie, 37]|[c, b, follow]|    [b, Bob, 36]|\n",
      "|  [f, Fanny, 38]|[f, c, follow]|[c, Charlie, 37]|\n",
      "|  [g, Gabby, 60]|[g, e, follow]| [e, Esther, 32]|\n",
      "+----------------+--------------+----------------+\n",
      "\n"
     ]
    }
   ],
   "source": [
    "g4.triplets.show()"
   ]
  },
  {
   "cell_type": "markdown",
   "metadata": {},
   "source": [
    "### BFS"
   ]
  },
  {
   "cell_type": "code",
   "execution_count": 40,
   "metadata": {},
   "outputs": [],
   "source": [
    "# Starting vertex is 'a'\n",
    "layers = [g.vertices.select('id').where(\"id = 'a'\")]\n",
    "visited =  layers[0]\n",
    "\n",
    "while layers[-1].count() > 0:\n",
    "    # From the current layer, get all the one-hop neighbors\n",
    "    d1 = layers[-1].join(g.edges, layers[-1]['id'] == g.edges['src'])\n",
    "    # Rename the column as 'id', and remove visited verices and duplicates\n",
    "    d2 = d1.select(d1['dst'].alias('id')) \\\n",
    "           .subtract(visited).distinct()\n",
    "    layers += [d2]\n",
    "    visited = visited.union(layers[-1])"
   ]
  },
  {
   "cell_type": "code",
   "execution_count": 41,
   "metadata": {},
   "outputs": [
    {
     "name": "stdout",
     "output_type": "stream",
     "text": [
      "+---+\n",
      "| id|\n",
      "+---+\n",
      "|  a|\n",
      "+---+\n",
      "\n"
     ]
    }
   ],
   "source": [
    "layers[0].show()"
   ]
  },
  {
   "cell_type": "code",
   "execution_count": 42,
   "metadata": {},
   "outputs": [
    {
     "name": "stdout",
     "output_type": "stream",
     "text": [
      "+---+\n",
      "| id|\n",
      "+---+\n",
      "|  e|\n",
      "|  b|\n",
      "+---+\n",
      "\n"
     ]
    }
   ],
   "source": [
    "layers[1].show()"
   ]
  },
  {
   "cell_type": "code",
   "execution_count": 43,
   "metadata": {},
   "outputs": [
    {
     "name": "stdout",
     "output_type": "stream",
     "text": [
      "+---+\n",
      "| id|\n",
      "+---+\n",
      "|  f|\n",
      "|  d|\n",
      "|  c|\n",
      "+---+\n",
      "\n"
     ]
    }
   ],
   "source": [
    "layers[2].show()"
   ]
  },
  {
   "cell_type": "code",
   "execution_count": 44,
   "metadata": {},
   "outputs": [
    {
     "name": "stdout",
     "output_type": "stream",
     "text": [
      "+---+\n",
      "| id|\n",
      "+---+\n",
      "+---+\n",
      "\n"
     ]
    }
   ],
   "source": [
    "layers[3].show()"
   ]
  },
  {
   "cell_type": "code",
   "execution_count": 45,
   "metadata": {},
   "outputs": [
    {
     "name": "stdout",
     "output_type": "stream",
     "text": [
      "+--------------+--------------+---------------+--------------+----------------+\n",
      "|          from|            e0|             v1|            e1|              to|\n",
      "+--------------+--------------+---------------+--------------+----------------+\n",
      "|[a, Alice, 34]|[a, b, friend]|   [b, Bob, 36]|[b, c, follow]|[c, Charlie, 37]|\n",
      "|[a, Alice, 34]|[a, e, friend]|[e, Esther, 32]|[e, f, follow]|  [f, Fanny, 38]|\n",
      "+--------------+--------------+---------------+--------------+----------------+\n",
      "\n"
     ]
    }
   ],
   "source": [
    "# GraphFrames provides own BFS:\n",
    "\n",
    "paths = g.bfs(\"id = 'a'\", \"age > 36\")\n",
    "paths.show()"
   ]
  },
  {
   "cell_type": "markdown",
   "metadata": {},
   "source": [
    "### List Ranking"
   ]
  },
  {
   "cell_type": "code",
   "execution_count": 46,
   "metadata": {},
   "outputs": [
    {
     "name": "stdout",
     "output_type": "stream",
     "text": [
      "+---+---+\n",
      "| id|  d|\n",
      "+---+---+\n",
      "|  0|  1|\n",
      "|  1|  1|\n",
      "|  3|  1|\n",
      "|  4|  1|\n",
      "|  5|  0|\n",
      "|  6|  1|\n",
      "| -1|  0|\n",
      "+---+---+\n",
      "\n",
      "+---+---+\n",
      "|src|dst|\n",
      "+---+---+\n",
      "|  0|  5|\n",
      "|  1|  0|\n",
      "|  3|  4|\n",
      "|  4|  6|\n",
      "|  5| -1|\n",
      "|  6|  1|\n",
      "+---+---+\n",
      "\n"
     ]
    }
   ],
   "source": [
    "# -1 denotes end of list\n",
    "data = [(0, 5), (1, 0), (3, 4), (4, 6), (5, -1), (6,1)]\n",
    "e = spark.createDataFrame(data, ['src', 'dst'])\n",
    "v = e.select(col('src').alias('id'), when(e.dst == -1, 0).otherwise(1).alias('d'))\n",
    "v1 = spark.createDataFrame([(-1, 0)], ['id', 'd'])\n",
    "v = v.union(v1)\n",
    "v.show()\n",
    "e.show()"
   ]
  },
  {
   "cell_type": "code",
   "execution_count": 47,
   "metadata": {},
   "outputs": [
    {
     "name": "stdout",
     "output_type": "stream",
     "text": [
      "+---+---+\n",
      "| id|  d|\n",
      "+---+---+\n",
      "|  0|  1|\n",
      "|  1|  2|\n",
      "|  3|  5|\n",
      "|  4|  4|\n",
      "|  5|  0|\n",
      "|  6|  3|\n",
      "| -1|  0|\n",
      "+---+---+\n",
      "\n"
     ]
    }
   ],
   "source": [
    "while e.filter('dst != -1').count() > 0:\n",
    "    g = GraphFrame(v, e)\n",
    "    g.cache()\n",
    "    v = g.triplets.select(col('src.id').alias('id'), \n",
    "                          (col('src.d') + col('dst.d')).alias('d')) \\\n",
    "         .union(v1)\n",
    "    e = g.find('(a)-[]->(b); (b)-[]->(c)') \\\n",
    "         .select(col('a.id').alias('src'), col('c.id').alias('dst')) \\\n",
    "         .union(e.filter('dst = -1'))\n",
    "v.show()"
   ]
  }
 ],
 "metadata": {
  "kernelspec": {
   "display_name": "Python 3",
   "language": "python",
   "name": "python3"
  }
 },
 "nbformat": 4,
 "nbformat_minor": 1
}
