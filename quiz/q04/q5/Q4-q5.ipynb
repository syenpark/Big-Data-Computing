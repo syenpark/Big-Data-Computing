{
 "cells": [
  {
   "cell_type": "markdown",
   "metadata": {},
   "source": [
    "Download the adjective-noun data here.\n",
    "\n",
    "Create a queue of 10 RDDs using this data set and feed it into a Spark Streaming program.  Your Spark Streaming algorithm should maintain a state that keeps track of the longest noun seen so far associated with each distinct adjective. After each RDD, print any 5 adjectives and their associated longest nouns, as well as the longest noun associated with the adjective 'good'. Note that not every line in the data set contains exactly two words, so make sure to clean the data as they are fed into the streaming program.  The skeleton code is provided below:"
   ]
  },
  {
   "cell_type": "code",
   "execution_count": 1,
   "metadata": {},
   "outputs": [
    {
     "name": "stdout",
     "output_type": "stream",
     "text": [
      "[('medical', 'pneumonoultramicroscopicsilicovolcanoconiosis'), ('result', 'ortho-nitro-para-diamino-triphenylmethane'), ('comma-free', '00101110100001100010111010000110'), ('at-taqafah', 'wad-dimuqratiyyah/rassemblement'), ('delete', 'atlasshrugged/passengernumber4')]\n",
      "good's the longest noun: morning/afternoon\n",
      "\n",
      "[('detective-ghost-horror-who', 'travel-romantic-musical-comedy-epic'), ('dunnit-time', 'travel-romantic-musical-comedy-epic'), ('Upper', 'famennian/chautauquan/canadaway'), ('encyclopedia_list_links_solicited', 'building_wikipedia_membership'), ('big_traffic_links_solicited', 'building_wikipedia_membership')]\n",
      "good's the longest noun: morning/afternoon\n",
      "\n",
      "[('natural', '5-aminoimidazole-4-carboxamide-1-ß-d-ribofuranoside'), ('automatic', 'transmission/gearbox/transmission'), ('such', 'quarantine-for-decontamination'), ('delete', 'HoldMoreStubbornlyAtLeastTalk'), ('true', 'what-you-see-is-what-you-get')]\n",
      "good's the longest noun: passage-planning\n",
      "\n",
      "[('former', 'dmsb-produktionswagen-meisterschaft'), ('=', '9e107d9d372bb6826bd81d3542a419d6'), ('sexual', 'memories/complaints/experiences'), ('unknown', 'mathematician-turned-politician'), ('delete', 'atlasshrugged/reardenlimestone')]\n",
      "good's the longest noun: nahi-anil-munkar\n",
      "\n",
      "[('delete', 'whichwikishouldweuse/naminglinkingdiscussion'), ('delete', 'BusinessSchools/KingstonUniversityLondon'), ('kungurian/irenian/filippovian', 'artinskian/baigendzinian/aktastinian'), ('=', 'grizzly_giant_mariposa_grove'), ('german', 'list_of_controversial_issues')]\n",
      "good's the longest noun: competitiveness\n",
      "\n",
      "[('synthetic', '5-aminoimidazole-4-carboxamide-1-ß-d-ribofuranoside'), ('stack-oriented', 'non-english-based_programming_languages'), ('delete', 'atlasshrugged/passengernumber2'), ('delete', 'atlasshrugged/passengernumber1'), ('oral', 'trimethoprim/sulfamethoxazole')]\n",
      "good's the longest noun: characterization\n",
      "\n",
      "[('longer', 'Pneumonoultramicroscopicsilicovolcanoconiosis'), ('delete', 'BusinessSchools/UniversityOfMichiganAnnArbor'), ('delete', 'businessschools/sheffieldhallamuniversity'), ('delete', 'BusinessSchools/UniversityOfWashington'), ('advanced', 'electronic-counter-counter-measure')]\n",
      "good's the longest noun: neighbourliness\n",
      "\n",
      "[('=', '37f332f68db77bd9d7edd4969571ad671cf9dd3b'), ('changxingian/lopingian/djulfian', 'wujiapingian/lopingian/dorashamian'), ('delete', 'BryceSorryAndConfusedHarrington'), ('orient', 'Friedrich-Wilhelms-Universität'), ('embedded', 'encodingssynchronizationvideo')]\n",
      "good's the longest noun: neighbourliness\n",
      "\n",
      "[('delete', 'businessschools/norwegianschoolofmanagement'), ('sure', 'anti-the-wrong-guy-getting-executed'), ('net', 'iran/din/traditionaldateofzoroaster'), ('delete', 'wikishouldoffersimplifieduseoftable'), ('continued', 'symptoms/infection/complications')]\n",
      "good's the longest noun: newspaper-seller\n",
      "\n",
      "Finished\n"
     ]
    }
   ],
   "source": [
    "from pyspark.streaming import StreamingContext\n",
    "\n",
    "ssc = StreamingContext(sc, 5)\n",
    "# Provide a checkpointing directory. Required for stateful transformations\n",
    "ssc.checkpoint(\"checkpoint\")\n",
    "\n",
    "numPartitions = 8\n",
    "rdd = sc.textFile('adj_noun_pairs.txt', numPartitions)\n",
    "rddQueue = rdd.randomSplit([1]*10, 123)\n",
    "lines = ssc.queueStream(rddQueue)\n",
    "\n",
    "# FILL IN YOUR CODE\n",
    "pairs = lines.map(lambda l: tuple(l.split())).filter(lambda p: len(p) == 2)\n",
    "\n",
    "# Use transform() to access any rdd transformations not directly available in SparkStreaming\n",
    "topWords = pairs.transform(lambda rdd: rdd.sortBy(lambda x: len(x[1]), False))\n",
    "\n",
    "def printResults(rdd):\n",
    "    print(rdd.take(5))\n",
    "    print('good\\'s the longest noun:', rdd.lookup('good')[0])\n",
    "    print()\n",
    "\n",
    "topWords.foreachRDD(printResults)\n",
    "\n",
    "ssc.start()\n",
    "ssc.awaitTermination(50)\n",
    "ssc.stop(False)\n",
    "print(\"Finished\")"
   ]
  },
  {
   "cell_type": "code",
   "execution_count": null,
   "metadata": {},
   "outputs": [],
   "source": []
  }
 ],
 "metadata": {
  "kernelspec": {
   "display_name": "Python 3",
   "language": "python",
   "name": "python3"
  },
  "language_info": {
   "codemirror_mode": {
    "name": "ipython",
    "version": 3
   },
   "file_extension": ".py",
   "mimetype": "text/x-python",
   "name": "python",
   "nbconvert_exporter": "python",
   "pygments_lexer": "ipython3",
   "version": "3.7.0"
  }
 },
 "nbformat": 4,
 "nbformat_minor": 2
}
